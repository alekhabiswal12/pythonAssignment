{
  "nbformat": 4,
  "nbformat_minor": 0,
  "metadata": {
    "colab": {
      "provenance": [],
      "authorship_tag": "ABX9TyOKtJs3QQTNCa1rSVc9mLnF",
      "include_colab_link": true
    },
    "kernelspec": {
      "name": "python3",
      "display_name": "Python 3"
    },
    "language_info": {
      "name": "python"
    }
  },
  "cells": [
    {
      "cell_type": "markdown",
      "metadata": {
        "id": "view-in-github",
        "colab_type": "text"
      },
      "source": [
        "<a href=\"https://colab.research.google.com/github/Krishnakant-Pal/Python_Assigments/blob/main/Assignment_8.ipynb\" target=\"_parent\"><img src=\"https://colab.research.google.com/assets/colab-badge.svg\" alt=\"Open In Colab\"/></a>"
      ]
    },
    {
      "cell_type": "markdown",
      "source": [
        "**1. In Python, what is the difference between a built-in function and a user-defined function? Provide an\n",
        "example of each.**"
      ],
      "metadata": {
        "id": "MF4vfDVczd4y"
      }
    },
    {
      "cell_type": "markdown",
      "source": [
        "-->Built-in fuction are the fuction which is readily availble in python as a part of standard library. ex - print(),sum() etc.\n"
      ],
      "metadata": {
        "id": "FhIrKrAszjbl"
      }
    },
    {
      "cell_type": "code",
      "source": [
        "# Built-in fuction\n",
        "length= len(\"Hello World\")\n",
        "print(length)\n",
        "\n"
      ],
      "metadata": {
        "colab": {
          "base_uri": "https://localhost:8080/"
        },
        "id": "-dF7WtNSziaZ",
        "outputId": "88681d48-12d8-49b8-9cf9-25f16bae8539"
      },
      "execution_count": null,
      "outputs": [
        {
          "output_type": "stream",
          "name": "stdout",
          "text": [
            "11\n"
          ]
        }
      ]
    },
    {
      "cell_type": "markdown",
      "source": [
        "User defined fuctions are the fuction which can be defined by the user with using def keyword."
      ],
      "metadata": {
        "id": "A9D6tsqM2-fM"
      }
    },
    {
      "cell_type": "code",
      "source": [
        "# User defined fuction\n",
        "def hello(name):\n",
        "    return 'Hello' +' '+ name\n",
        "hello(\"Krishna\")"
      ],
      "metadata": {
        "colab": {
          "base_uri": "https://localhost:8080/",
          "height": 35
        },
        "id": "Fxfqixir12Js",
        "outputId": "01da1113-feee-48bd-99f9-e75fe309c219"
      },
      "execution_count": null,
      "outputs": [
        {
          "output_type": "execute_result",
          "data": {
            "text/plain": [
              "'Hello Krishna'"
            ],
            "application/vnd.google.colaboratory.intrinsic+json": {
              "type": "string"
            }
          },
          "metadata": {},
          "execution_count": 4
        }
      ]
    },
    {
      "cell_type": "markdown",
      "source": [
        "**2. How can you pass arguments to a function in Python? Explain the difference between positional\n",
        "arguments and keyword arguments.**"
      ],
      "metadata": {
        "id": "HMRnkWSJ2w-P"
      }
    },
    {
      "cell_type": "markdown",
      "source": [
        "--> We can pass the argument to the fuction either positional or keyword. In positional argument the values are passed the certain position as defined in the fuction. For passing with keyword argument we have to specify the values with naming."
      ],
      "metadata": {
        "id": "oZ31n0on3tYi"
      }
    },
    {
      "cell_type": "code",
      "source": [
        "# Add fuction\n",
        "def Add(x,y):\n",
        "    return x + y\n",
        "\n",
        "# Positional argument passed\n",
        "result1 = Add(2,3)\n",
        "print(result1)\n",
        "\n",
        "# Keyword argument passed\n",
        "result2 = Add(y=2,x=2)\n",
        "print(result2)\n"
      ],
      "metadata": {
        "colab": {
          "base_uri": "https://localhost:8080/"
        },
        "id": "l7Ges0Mz2XW3",
        "outputId": "eb8ac3e7-212b-4053-96da-990701f4128e"
      },
      "execution_count": null,
      "outputs": [
        {
          "output_type": "stream",
          "name": "stdout",
          "text": [
            "5\n",
            "4\n"
          ]
        }
      ]
    },
    {
      "cell_type": "markdown",
      "source": [
        "**3. What is the purpose of the return statement in a function? Can a function have multiple return\n",
        "statements? Explain with an example.**"
      ],
      "metadata": {
        "id": "GwXYqSpx5Q-9"
      }
    },
    {
      "cell_type": "markdown",
      "source": [
        "--> The purpose to the return statement is to return the value to the caller or the fuction. A fuction can have multiple return statement but once a return statement is executed the fuctions exits."
      ],
      "metadata": {
        "id": "BrHAOgAP5VAE"
      }
    },
    {
      "cell_type": "code",
      "source": [
        "def iseven(number):\n",
        "    if number%2 == 0 :\n",
        "        return True\n",
        "    else:\n",
        "        return False\n",
        "\n",
        "iseven(12)"
      ],
      "metadata": {
        "colab": {
          "base_uri": "https://localhost:8080/"
        },
        "id": "8R9LoaMd4ZJi",
        "outputId": "152a58ae-1576-4b0c-cc0b-7d1615de6bac"
      },
      "execution_count": null,
      "outputs": [
        {
          "output_type": "execute_result",
          "data": {
            "text/plain": [
              "True"
            ]
          },
          "metadata": {},
          "execution_count": 11
        }
      ]
    },
    {
      "cell_type": "markdown",
      "source": [
        "**4. What are lambda functions in Python? How are they different from regular functions? Provide an\n",
        "example where a lambda function can be useful.**"
      ],
      "metadata": {
        "id": "g_Jvv8AU6Tcn"
      }
    },
    {
      "cell_type": "markdown",
      "source": [
        "Lambda function is the small and consice inline fuction which can be defined using lambda keyword it doesn't need def keyword."
      ],
      "metadata": {
        "id": "5fBh3B8Q6ao5"
      }
    },
    {
      "cell_type": "code",
      "source": [
        "square = lambda x: x ** 2\n",
        "result = square(5)\n",
        "prut=result"
      ],
      "metadata": {
        "colab": {
          "base_uri": "https://localhost:8080/"
        },
        "id": "ZYTeVNAj5-4G",
        "outputId": "8fb6f361-65ce-4ded-91c8-5ac809fb8b42"
      },
      "execution_count": null,
      "outputs": [
        {
          "output_type": "execute_result",
          "data": {
            "text/plain": [
              "25"
            ]
          },
          "metadata": {},
          "execution_count": 14
        }
      ]
    },
    {
      "cell_type": "markdown",
      "source": [
        "**5. How does the concept of \"scope\" apply to functions in Python? Explain the difference between local\n",
        "scope and global scope.**"
      ],
      "metadata": {
        "id": "vWr582aKPbOY"
      }
    },
    {
      "cell_type": "markdown",
      "source": [
        "Scope of any variable is accessibility of that variable in different parts of the variable.\n",
        "Local scope variable can be accessed in the fuction they are defined."
      ],
      "metadata": {
        "id": "51TUpD6vPg8f"
      }
    },
    {
      "cell_type": "code",
      "source": [
        "def my_function():\n",
        "    local_variable = 42  # local variable\n",
        "    print(local_variable)\n",
        "\n",
        "my_function()  # This works\n",
        "print(local_variable)  # This will result in an error\n"
      ],
      "metadata": {
        "colab": {
          "base_uri": "https://localhost:8080/",
          "height": 228
        },
        "id": "83ZOOYih8l7r",
        "outputId": "d02c6fdf-1b91-4d43-9bfb-c0c48e6b2153"
      },
      "execution_count": null,
      "outputs": [
        {
          "output_type": "stream",
          "name": "stdout",
          "text": [
            "42\n"
          ]
        },
        {
          "output_type": "error",
          "ename": "NameError",
          "evalue": "ignored",
          "traceback": [
            "\u001b[0;31m---------------------------------------------------------------------------\u001b[0m",
            "\u001b[0;31mNameError\u001b[0m                                 Traceback (most recent call last)",
            "\u001b[0;32m<ipython-input-15-be01264a794e>\u001b[0m in \u001b[0;36m<cell line: 6>\u001b[0;34m()\u001b[0m\n\u001b[1;32m      4\u001b[0m \u001b[0;34m\u001b[0m\u001b[0m\n\u001b[1;32m      5\u001b[0m \u001b[0mmy_function\u001b[0m\u001b[0;34m(\u001b[0m\u001b[0;34m)\u001b[0m  \u001b[0;31m# This works\u001b[0m\u001b[0;34m\u001b[0m\u001b[0;34m\u001b[0m\u001b[0m\n\u001b[0;32m----> 6\u001b[0;31m \u001b[0mprint\u001b[0m\u001b[0;34m(\u001b[0m\u001b[0mlocal_variable\u001b[0m\u001b[0;34m)\u001b[0m  \u001b[0;31m# This will result in an error\u001b[0m\u001b[0;34m\u001b[0m\u001b[0;34m\u001b[0m\u001b[0m\n\u001b[0m",
            "\u001b[0;31mNameError\u001b[0m: name 'local_variable' is not defined"
          ]
        }
      ]
    },
    {
      "cell_type": "markdown",
      "source": [
        "Global scope varaible can be accessed in all the parts of the code."
      ],
      "metadata": {
        "id": "Cq_cVSoFQn74"
      }
    },
    {
      "cell_type": "code",
      "source": [
        "global_variable = 42  # global variable\n",
        "\n",
        "def my_function():\n",
        "    print(global_variable)  # Accessing a global variable\n",
        "\n",
        "my_function()  # This works\n",
        "print(global_variable)  # This works\n"
      ],
      "metadata": {
        "colab": {
          "base_uri": "https://localhost:8080/"
        },
        "id": "Pr7wr6N6Qg5P",
        "outputId": "4a86bc35-b502-43e4-bae2-804b0b4c5281"
      },
      "execution_count": null,
      "outputs": [
        {
          "output_type": "stream",
          "name": "stdout",
          "text": [
            "42\n",
            "42\n"
          ]
        }
      ]
    },
    {
      "cell_type": "markdown",
      "source": [
        "**6. How can you use the \"return\" statement in a Python function to return multiple values?**"
      ],
      "metadata": {
        "id": "GsbV97IFQ0TD"
      }
    },
    {
      "cell_type": "markdown",
      "source": [
        "--> We can use tuple, list, or any other iterable data structure. to return multiple values in python fuction."
      ],
      "metadata": {
        "id": "HyXD3iAwRGsA"
      }
    },
    {
      "cell_type": "code",
      "source": [
        "def return_multiple_values():\n",
        "    value1 = 42\n",
        "    value2 = \"Hello\"\n",
        "    value3 = [1, 2, 3]\n",
        "    return value1, value2, value3  # Return as a tuple\n",
        "\n",
        "result = return_multiple_values()\n",
        "print(result)  # Output: (42, \"Hello\", [1, 2, 3])\n"
      ],
      "metadata": {
        "colab": {
          "base_uri": "https://localhost:8080/"
        },
        "id": "IUzp2xYEQkBA",
        "outputId": "9d5bfe0b-9e3f-4b65-d0fe-f5503a3966c4"
      },
      "execution_count": null,
      "outputs": [
        {
          "output_type": "stream",
          "name": "stdout",
          "text": [
            "(42, 'Hello', [1, 2, 3])\n"
          ]
        }
      ]
    },
    {
      "cell_type": "markdown",
      "source": [
        "**7. What is the difference between the \"pass by value\" and \"pass by reference\" concepts when it\n",
        "comes to function arguments in Python?**"
      ],
      "metadata": {
        "id": "sLfUQYLFRgmp"
      }
    },
    {
      "cell_type": "markdown",
      "source": [
        "Arguments are passed in python are by object reference. This means that when we pass an argument to a function, you're passing a reference to the object, not the object itself. This can lead to mutable objects being modified in place within a function, but it doesn't work the same way as pass by reference in some other languages like C++"
      ],
      "metadata": {
        "id": "NJvthyO6R1x9"
      }
    },
    {
      "cell_type": "markdown",
      "source": [
        "**8. Create a function that can intake integer or decimal value and do following operations:\n",
        "a. Logarithmic function (log x)\n",
        "b. Exponential function (exp(x))\n",
        "c. Power function with base 2 (2\n",
        "x)\n",
        "d. Square root\n",
        "**"
      ],
      "metadata": {
        "id": "pBn91K_mSWk8"
      }
    },
    {
      "cell_type": "code",
      "source": [
        "import math\n",
        "\n",
        "def perform_operations(x):\n",
        "    # Checking if x is a negative number for the square root operation\n",
        "    if x < 0:\n",
        "        return \"Invalid input for square root\"\n",
        "\n",
        "    # logarithmic function (log x)\n",
        "    logarithmic_result = math.log(x)\n",
        "\n",
        "    # exponential function (exp(x))\n",
        "    exponential_result = math.exp(x)\n",
        "\n",
        "    # power function with base 2 (2^x)\n",
        "    power_result = math.pow(2, x)\n",
        "\n",
        "    # square root\n",
        "    square_root_result = math.sqrt(x)\n",
        "\n",
        "    return logarithmic_result, exponential_result, power_result, square_root_result\n",
        "\n",
        "\n",
        "input_value = 4.0\n",
        "log_result, exp_result, power_result, sqrt_result = perform_operations(input_value)\n",
        "\n",
        "print(f\"Logarithmic result (log x): {log_result}\")\n",
        "print(f\"Exponential result (exp(x)): {exp_result}\")\n",
        "print(f\"Power result (2^x): {power_result}\")\n",
        "print(f\"Square root result: {sqrt_result}\")\n"
      ],
      "metadata": {
        "id": "Pg51FRjdREvH",
        "colab": {
          "base_uri": "https://localhost:8080/"
        },
        "outputId": "9978cfc9-60ba-4a6f-dff9-2016f19362bc"
      },
      "execution_count": null,
      "outputs": [
        {
          "output_type": "stream",
          "name": "stdout",
          "text": [
            "Logarithmic result (log x): 1.3862943611198906\n",
            "Exponential result (exp(x)): 54.598150033144236\n",
            "Power result (2^x): 16.0\n",
            "Square root result: 2.0\n"
          ]
        }
      ]
    },
    {
      "cell_type": "markdown",
      "source": [
        "**9. Create a function that takes a full name as an argument and returns first name and last name.**\n",
        "\n"
      ],
      "metadata": {
        "id": "buARS3fi7STW"
      }
    },
    {
      "cell_type": "code",
      "source": [
        "def name(fullname):\n",
        "    # spliting into first and last name\n",
        "    first_name,last_name = fullname.split(' ')\n",
        "    return first_name,last_name\n",
        "\n",
        "print(name('Krishnakant Pal'))"
      ],
      "metadata": {
        "colab": {
          "base_uri": "https://localhost:8080/"
        },
        "id": "oP2zTKXU6faW",
        "outputId": "179baec0-0080-471d-cfc5-e371fccf9ede"
      },
      "execution_count": null,
      "outputs": [
        {
          "output_type": "stream",
          "name": "stdout",
          "text": [
            "('Krishnakant', 'Pal')\n"
          ]
        }
      ]
    },
    {
      "cell_type": "code",
      "source": [
        "def name(fullname):\n",
        "\n",
        "    return fullname.split(' ')\n",
        "\n",
        "print(name('Krishnakant Pal'))"
      ],
      "metadata": {
        "colab": {
          "base_uri": "https://localhost:8080/"
        },
        "id": "VkBAz8iG734z",
        "outputId": "2595ce29-b7d2-4f72-8317-d0eb555f96a4"
      },
      "execution_count": 2,
      "outputs": [
        {
          "output_type": "stream",
          "name": "stdout",
          "text": [
            "['Krishnakant', 'Pal']\n"
          ]
        }
      ]
    },
    {
      "cell_type": "code",
      "source": [],
      "metadata": {
        "id": "c17qNKMrYijz"
      },
      "execution_count": null,
      "outputs": []
    }
  ]
}