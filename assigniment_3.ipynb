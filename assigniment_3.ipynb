{
 "cells": [
  {
   "cell_type": "markdown",
   "id": "c9d56cf1-58b2-4ef2-adbb-7f3b6582e438",
   "metadata": {},
   "source": [
    "1. ### Why are functions advantageous to have in your programs?\n",
    "   a- Functions reduce the need for duplicate code. This makes programs shorter, easier to read, and easier to update. -The code in a function executes       when the function is called, not when the function is defined. Functions offer several advantages in programming, making code more organized,         modular,     and maintainable. Here are some key reasons why functions are advantageous:\n",
    "\n",
    "2. ### When does the code in a function run: when its specified or when its called?\n",
    "   a-the actual execution of the code within the function occurs when the function is called elsewhere in the programThe code within a function runs      when    the function is called, not when it is specified or defined. In programming, defining a function involves writing the code that makes up the    function,     specifying its parameters, and indicating what the function is supposed to do. However.\r",
    "  Functions are essentially reusable blocks of code that can be invoked (called) multiple times from different parts of a program. This separation        between   function definition and function invocation allows for modularity and better organization in code.\r\n",
    "3. ### What statement creates a function? .\n",
    "  a-To create a function, we must first declare it and give it a name, the same w.ay we'd create any variable, and then we follow it by a function.\n",
    "  programming languages, including Python, JavaScript, C++, and others, the def keyword is commonly used to create or define a function.\n",
    "  examples:\n",
    "  \r",
    "  Def my_function():\r\n",
    "       Print(“this is a simple function”\n",
    "\n",
    "\n",
    "4. ### What is the difference between a function and a function call?\n",
    "   a-A function is a block of code that performs a specific task or set of tasks.\r",
    "   \n",
    "It is a reusable piece of code that is defined with a name, a set of parameters (optional), and a body of code.   \r\n",
    "The code inside a function is not executed until the function is call.\n",
    "   A function call is an instruction that tells the program to execute the code within a specific function.\n",
    "\n",
    "5. ### How many global scopes are there in a Python program? How many local scopes?\n",
    "   a-There is one global scope, and a local scope is created whenever a function is called. What happens to variables in a local scope when the            function call returns? When a function returns, the local scope is destroyed, and all the variables in it are forgotten.\n",
    "   local scopes: 1-There can be multiple local scopes in a Python program.\r",
    "                2- \n",
    "Local scopes are created when a function is called.                3-the \r\n",
    "Variables defined inside a function have local scope and are accessible only within that functi.n                 .\r\n",
    "Each function call creates a new local sco\n",
    "   examoles:\n",
    "   def my_function():\n",
    "      local_variable=5\n",
    "      print(local_variable)p\n",
    "6. ### What happens to variables in a local scope when the function call returns?\n",
    "   a-The variable  only exists while the function is being executed — we call this its lifetime.. CodeLens helps you visualize this because the local      variables disappear after the function returns. function is destroyed, and the variables defined within that local scope go out of scop.\n",
    "7. ### What is the concept of a return value? Is it possible to have a return value in an expression?\n",
    "   a-If a function is defined as having a return type other than void , it should return a value.\r",
    "   \n",
    "A function defined with a return type must include an expression containing the value to be returned\n",
    " ut: 8\r\n",
    "\n",
    "   .\r\n",
    "e.\r\n",
    "\n",
    "   ed\r\n",
    ")\r\n",
    "\n",
    "\n",
    "\r\n"
   ]
  },
  {
   "cell_type": "code",
   "execution_count": 1,
   "id": "2acf203a-6cca-4794-99ec-2910d3cbaaf2",
   "metadata": {},
   "outputs": [
    {
     "name": "stdout",
     "output_type": "stream",
     "text": [
      "8\n"
     ]
    }
   ],
   "source": [
    "def add_numbers(a, b):\n",
    "    result = a + b\n",
    "    return result\n",
    "\n",
    "sum_result = add_numbers(3, 5)\n",
    "print(sum_result)  # Output: 8"
   ]
  },
  {
   "cell_type": "markdown",
   "id": "48233cfa-39eb-4f9a-ae41-0a2767138ac3",
   "metadata": {},
   "source": [
    "8. ###  If a function does not have a return statement, what is the return value of a call to that function?\n",
    "   "
   ]
  },
  {
   "cell_type": "code",
   "execution_count": 2,
   "id": "a2a42bcf-6bf9-4a39-91b0-8c8f1c54ae7a",
   "metadata": {},
   "outputs": [
    {
     "name": "stdout",
     "output_type": "stream",
     "text": [
      "This function has no return statement\n",
      "None\n"
     ]
    }
   ],
   "source": [
    "def no_return():\n",
    "    print(\"This function has no return statement\")\n",
    "\n",
    "result = no_return()\n",
    "print(result)  \n"
   ]
  },
  {
   "cell_type": "markdown",
   "id": "52fedd75-028d-4356-8b02-2f4012052a8d",
   "metadata": {},
   "source": [
    "9. ### How do you make a function variable refer to the global variable?\n",
    "    a--the global variable access the local variable  \tfrom the function. if you want to make a function variable refer to a global variable"
   ]
  },
  {
   "cell_type": "code",
   "execution_count": 3,
   "id": "ab5a680a-0e8f-41a7-9949-2af79ef3c470",
   "metadata": {},
   "outputs": [
    {
     "name": "stdout",
     "output_type": "stream",
     "text": [
      "Inside the function: 10\n",
      "Outside the function: 10\n"
     ]
    }
   ],
   "source": [
    "global_variable = 10\n",
    "\n",
    "def access_global_variable():\n",
    "    global global_variable\n",
    "    print(\"Inside the function:\", global_variable)\n",
    "\n",
    "access_global_variable()\n",
    "print(\"Outside the function:\", global_variable)\n"
   ]
  },
  {
   "cell_type": "markdown",
   "id": "34d199c7-defb-41cd-a220-91d634cb0ed8",
   "metadata": {},
   "source": [
    "10. ### What is the data type of None?\n",
    "    a-none  is a special  constant representing the absence of a value or a null value. It is used to signify that a variable or a function does not        have a specific value.\n",
    "\n",
    "11. ### What does the sentence import areallyourpetsnamederic do?\n",
    "    a-he sentence \"import areallyourpetsnamederic\" is not a standard or valid Python import statement, and it would result in.\r",
    "    The sentence \"import areallyourpetsnamederic\" is a syntactically correct Python import statement, but it doesn't actually import any existing           Python module or package. It appears to be a whimsical or fictional statement without any practical use.\n",
    "12. ### If you had a bacon() feature in a spam module, what would you call it after importing spam?\n",
    "    This function can be called with spam. bacon().after importing the spam module, you would call the bacon() function.\n",
    "\n",
    "\n",
    "13. ### What can you do to save a programme from crashing if it encounters an error?\n",
    "    a-\r\n",
    "It's important to handle exceptions properly in your code using try-except blocks or other error-handling techniques, in order to gracefull         y handle errors and prevent the program from crashi.\n",
    "\n",
    "14. ### What is the purpose of the try clause? What is the purpose of the except clause?\n",
    "    a-Python purpose try clause expect the clause is the   \r\n",
    "    Python executes code following the try statement as a “normal” part of the program. clauses in Python are used for exception handling, which is         a mechanism for dealing with errors or unexpected situations in a program.    b-try clause is the The try block encloses the code that might raise an exception. It is the region where you anticipate potential errors or            exception.If an exception occurs within the try block, the control is transferred to the corresponding except block.\r",
    "    s\r\n",
    "\r\n",
    "g\n",
    "\r\n",
    "\r\n"
   ]
  },
  {
   "cell_type": "code",
   "execution_count": null,
   "id": "a81c1e7b-131f-4201-beed-2c6117de96cd",
   "metadata": {},
   "outputs": [],
   "source": [
    "\n"
   ]
  },
  {
   "cell_type": "code",
   "execution_count": null,
   "id": "3a51fe5e-db99-470e-a66a-0ed6da876ce0",
   "metadata": {},
   "outputs": [],
   "source": []
  },
  {
   "cell_type": "code",
   "execution_count": null,
   "id": "f4ab0ed0-5f94-480c-a853-ed29a683a032",
   "metadata": {},
   "outputs": [],
   "source": []
  },
  {
   "cell_type": "code",
   "execution_count": null,
   "id": "ff73be4e-9679-4566-9153-53bab7c03cf0",
   "metadata": {},
   "outputs": [],
   "source": []
  }
 ],
 "metadata": {
  "kernelspec": {
   "display_name": "Python 3 (ipykernel)",
   "language": "python",
   "name": "python3"
  },
  "language_info": {
   "codemirror_mode": {
    "name": "ipython",
    "version": 3
   },
   "file_extension": ".py",
   "mimetype": "text/x-python",
   "name": "python",
   "nbconvert_exporter": "python",
   "pygments_lexer": "ipython3",
   "version": "3.11.4"
  }
 },
 "nbformat": 4,
 "nbformat_minor": 5
}
