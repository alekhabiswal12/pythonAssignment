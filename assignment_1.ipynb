{
 "cells": [
  {
   "cell_type": "markdown",
   "id": "cc9ca7f5-e845-4750-9d09-cac86572d1d6",
   "metadata": {},
   "source": [
    "1. ### In the below elements which of them are values or an expression? eg:- values can be  integer or string and expressions will be mathematical operators.\n",
    "   A-vallues: 'hello\" ,-87.8,6\n",
    "   expressions: -, /,  +, *\r",
    "2. ### What is the difference between string and variable?\n",
    "     A string is a data type used to represent text or sequences of characters. In most programming languages, strings are enclosed in quotation marks         (single or double). For example, in Python:\r",
    "      -Strings can contain letters, numbers, symbols, and spaces, and they are commonly used to represent textual information in a program\n",
    "   b-variable:A variable is a symbolic name or identifier associated with a value or a reference to a value. It acts as a container for storing data.         Variables allow you to store and manipulate values in a program.\r",
    "   For example, in the Python cod\n",
    "   example: (\"hello world\") .\r",
    "4. ### Describe three different data types?\n",
    "   a-interge:An integer is a whole number without any decimal points. It can be positive, negative, or zero. Examples of integers include -5, 0, 42,      and 100.\n",
    "   b-String:-  string is a sequence of characters, typically used to represent textual data. Strings are enclosed in single or double quotation marks.      Examples of strings include \"Hello, World!\", \"123\", and \"Python\"\n",
    "   c-floating:-  A floating point number (float) represents a real number with decimal points. It can also be written using scientific notation.            Examples of floating-point numbers include 3.14, -0.5, and 2.0.\n",
    "   d-Operators:  Symbols that perform operations on one or more operands. Examples include arithmetic operators (+, -, *, /), comparison operators (>,      <, ==), and logical operators (and, or).\n",
    "\n",
    "5. ### This assignment statements, like spam = 10. What is the difference between an expression and a statement?\r",
    "  a-A statement is a complete line of code that performs some action. Unlike expressions, statements are not meant to produce a value directly.        Instead, they carry out operations, control flow, or define and modify variables.\r\n",
    "Examples of statements include   x = 5 \r",
    "                                 \n",
    "result = 2 * (x + 3) \n",
    "                                  s6. ###  After running the following code, what does the variable bacon contain? ### \n",
    "bacon = 2 ### \r\n",
    "bacon +\n",
    "   a-The variable bacon is initially assigned the value 22. However, the second line (bacon + 1) is an expression that evaluates to 23, but this value     is not assigned back to the variable bacon. In Python, expressions alone without an assignment statement do not modify the value of variables.\n",
    "\n",
    "7. ### What should the values of the following two terms be?\r\n",
    "&#39;spam&#39; + &#39;spamspam&#39;\r\n",
    "&#39;spam&#39; * \n",
    " a- this '+' variable operator use for(spam+spamspam) fast then 2nd value (spam*1) two terms this operator value string operator .\n",
    "\n",
    "\n",
    "8. ### Why is eggs a valid variable name while 100 is invalid?\n",
    "  Variable names cannot begin with a number. actually this name arrtibute note then if ,else elseif , he is variable name.\n",
    "\n",
    "9. ### What three functions can be used to get the integer, floating-point number, or string version of a value?\n",
    "    value = 42\r\n",
    "integer_value = int(value)\r\n",
    "print(integer_valu\n",
    "\n",
    "value = 12.3\n",
    "float_value(float(value)\n",
    "print(float_value)\n",
    "\n",
    "value= 34\n",
    "string_value = string(value)\n",
    "print(string_value)\n",
    "\n",
    "10. ### Why does this expression cause an error? How can you fix it?\r",
    "### ;I have eaten; + 99  burritos;. The expression causes an error because you are trying to concatenate a strin.In Python, you can only concatenate objects of the same type.\n",
    " gstring value operator for list concatenation is '+', while the operator for replication is *. (This is the same as for strings.)e)\n",
    "\r",
    "?3 \r",
    "r\n",
    "a-\n",
    "+\r",
    "8"
   ]
  },
  {
   "cell_type": "code",
   "execution_count": null,
   "id": "286d921d-26ab-49bf-96be-86f3e7d4e3ed",
   "metadata": {},
   "outputs": [],
   "source": []
  },
  {
   "cell_type": "code",
   "execution_count": null,
   "id": "9cae2d13-9261-41e4-a348-4b5db301937d",
   "metadata": {},
   "outputs": [],
   "source": []
  }
 ],
 "metadata": {
  "kernelspec": {
   "display_name": "Python 3 (ipykernel)",
   "language": "python",
   "name": "python3"
  },
  "language_info": {
   "codemirror_mode": {
    "name": "ipython",
    "version": 3
   },
   "file_extension": ".py",
   "mimetype": "text/x-python",
   "name": "python",
   "nbconvert_exporter": "python",
   "pygments_lexer": "ipython3",
   "version": "3.11.4"
  }
 },
 "nbformat": 4,
 "nbformat_minor": 5
}
