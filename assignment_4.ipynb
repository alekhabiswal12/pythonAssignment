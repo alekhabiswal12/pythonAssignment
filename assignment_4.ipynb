{
 "cells": [
  {
   "cell_type": "markdown",
   "id": "454f886a-217f-4448-9665-798b17c0811e",
   "metadata": {},
   "source": [
    "1. ### What exactly is []?\n",
    "   a-[] Index brackets) this is use Index brackets are also used to write expressions that evaluate to a single item within a list, or a single character in a string.\r",
    "2. ### In a list of values stored in a variable called spam, how would you assign the value hello as the third value? (Assume [2, 4, 6, 8, 10] are in spam.)\r",
    "     a To assign the value 'hello' as the third value in a list stored in a variable called spam, you can use the following code.\r",
    "spam))\n"
   ]
  },
  {
   "cell_type": "code",
   "execution_count": 2,
   "id": "047cbfc9-964d-4a57-aa17-8497d7793efd",
   "metadata": {},
   "outputs": [
    {
     "name": "stdout",
     "output_type": "stream",
     "text": [
      "[2, 4, 'hello', 8]\n"
     ]
    }
   ],
   "source": [
    "spam=[2,4,6,8]\n",
    "spam[2] ='hello'\n",
    "print(spam)"
   ]
  },
  {
   "cell_type": "markdown",
   "id": "1f9c3ea4-a4f3-469d-be68-e6dbcc70eb03",
   "metadata": {},
   "source": [
    "3. ### What is the value of spam[int(int('3' * 2)/ 11)]?\n",
    "   a- the final value depends on the content of the spam variable. If spam is a list or string, it will give the element at index.\n",
    "   \n",
    "5. ### What is the value of spam[-1]?\n",
    "  a-The value of spam[-1] refers to the last element of the sequence (list or string) assigned to the variable spam. The negative index -1 in Python is   a convenient way to access the last element of a sequence.\n"
   ]
  },
  {
   "cell_type": "markdown",
   "id": "6d9ee47f-daaf-4a44-a9d0-b1072a3c4de5",
   "metadata": {},
   "source": [
    "5. ### What is the value of spam[:2]?\n",
    "   a-The value of spam[:2] is a slice of the sequence (list or string) assigned to the variable spam. This slice includes elements from the beginning      (index 0) up to, but not including, the element at index 2.\n",
    "    \r",
    "   \n",
    "In Python, the expression spa ] is used to create a new list containing elements from index 0 up to (but not including) index 2 of the original         list spam\r",
    "   \n",
    "\r\n",
    "If we pretend bacon is the lirue], then ba2] would result in a new list containing elements at index 0 and index    1 of bacon. Therefore, the val   ue of s:2] would\n",
    "\n",
    "6. ### What is the value of bacon.index('cat')?\n",
    "   a-The value of bacon.index('cat') depends on the content of the bacon variable. The index method is used to find the index of the first occurrence      of the specified value in a list or string.\n",
    "\n",
    "7. ### How does bacon.append(99) change the look of the list value in bacon?\n",
    "   a-After executing the bacon.append(99) statement, the value of the list bacon would be modified by adding the integer 99 to the end of the list. The    list would be updated, and the new look of the bacon list would be:\r\n",
    "8. ### How does bacon.remove(cat) change the look of the list in bacon?\n",
    "   a-bacon.remove('cat') method is used to remove the first occurrence of the value 'cat' from the list stored in the variable bacon. Here's how it changes the list\n",
    "\n",
    "9. ### What are the list concatenation and list replication operators?\n",
    "   a-The + operator is used to concatenate two lists, creating a new list that contains all the elements from both original lists. \r",
    "   \n",
    "In Python, the list concatenation operator is +, and the list replication operator is \n",
    "\n",
    "10. ### What is difference between the list methods append() and insert()?\n",
    "    a-append() adds an item to the end of a list, whereas . insert() inserts and item in a specified position in the list. As you saw in the previous       section, . append() will add the item you pass as the argument to the function always to the end of the list.\n",
    "\n",
    "11. ###  What are the two methods for removing items from a list?\n",
    "    a-The remove() method removes the first matching element (which is passed as an argument) from the list. The pop() method removes an element at a       given index, and will also return the removed item.\n",
    "    \n",
    "12. ### Describe how list values and string values are identical.\n",
    "    a-In Python, strings and lists are both sequences. Both have a length. The length of a sequence is the number of elements it contains. The length       of a string is the number of characters it contains, and the length of a list is the number of items it contains.\r\n",
    "    my_list = [1, 2, 3]\r",
    "    \n",
    "my_list.append(4)    \r\n",
    "print(my_list)13. ### How do you type a tuple value that only contains the integer 42?\r\n",
    "  a- To create a tuple in Python that contains only the integer 42, you can use parentheses () with the integer inside. Here's how you can type a tuple     with the integer 42:\n",
    "\n",
    "14. ### What is the difference between tuples and lists?\n",
    "    a- Tuples and lists are both data structures in Python, but they have some key differences.\n",
    "    b-Lists: Lists are mutable, meaning you can modify their contents. You can add, remove, or change elements after the list is created.\r",
    "   c- \n",
    "Tuples: Tuples are immutable, meaning once they are created, you cannot change their contents. You cannot add, remove, or modify elements in a        tuple15. ### How do you get a list values tuple form? How do you get a tuple value&#39;s list form?\n",
    "    my_list = [1, 2, 3, 4, 5]\r\n",
    "    my_tuple = tuple(my_list)\r\n",
    "    print(my_tuple  )\r\n",
    " my_tuple = (1, 2, 3, 4,   5)\r\n",
    " my_list = list(my_tupl  e)\r\n",
    " print(my_\n",
    "\n",
    "16. ###  Variables that contain list values are not necessarily lists themselves. Instead, what do they contain?\n",
    "    a-In Python, variables that \"contain\" list values actually contain references to the lists rather than the lists themselves. These references or       pointers point to the memory location where the actual list data is stored. In other words, variables store references to objects in Python, and        lists are objects.\r\n",
    "17. ### How do you distinguish between copy.copy() and copy.deepcopy()?\n",
    "    a---In Python, the copy module provides two functions for creating copies of objects: copy() and deepcopy(). These functions are used to create new     objects that are independent copies of the original objects, but they differ in their behavior when it comes to nested or complex structures like       nested lists or dictionaries\n",
    "    \n",
    "\n",
    "\r",
    "list)\r\n",
    "\r\n",
    "\r\n",
    "\r\n",
    "*\r\n",
    "\n",
    "on\r\n",
    "\r\n",
    "t']"
   ]
  },
  {
   "cell_type": "code",
   "execution_count": 4,
   "id": "a6dc3ad4-1922-4506-92a4-c23670268b7a",
   "metadata": {},
   "outputs": [
    {
     "name": "stdout",
     "output_type": "stream",
     "text": [
      "[1, ['X', 3], 4]\n"
     ]
    }
   ],
   "source": [
    "## examples\n",
    "import copy\n",
    "\n",
    "original_list = [1, [2, 3], 4]\n",
    "shallow_copy = copy.copy(original_list)\n",
    "\n",
    "shallow_copy[1][0] = 'X'\n",
    "print(original_list)  # Output: [1, ['X', 3], 4]\n"
   ]
  },
  {
   "cell_type": "code",
   "execution_count": null,
   "id": "dbcb7a42-4086-4304-8d19-656595079a78",
   "metadata": {},
   "outputs": [],
   "source": []
  },
  {
   "cell_type": "code",
   "execution_count": null,
   "id": "f45e4079-52e1-45b8-bb12-58ca3475562a",
   "metadata": {},
   "outputs": [],
   "source": []
  },
  {
   "cell_type": "code",
   "execution_count": null,
   "id": "b9a19fa8-0dfa-4ba7-a837-cf6ab1427271",
   "metadata": {},
   "outputs": [],
   "source": []
  },
  {
   "cell_type": "code",
   "execution_count": null,
   "id": "5de21187-dba6-4739-91b2-f8134b0bcf03",
   "metadata": {},
   "outputs": [],
   "source": []
  },
  {
   "cell_type": "code",
   "execution_count": null,
   "id": "4c2273b1-9f37-4a06-a32d-078a7e2dbf88",
   "metadata": {},
   "outputs": [],
   "source": []
  },
  {
   "cell_type": "code",
   "execution_count": null,
   "id": "ee8d661c-f54b-41a5-a420-1117081f031e",
   "metadata": {},
   "outputs": [],
   "source": []
  }
 ],
 "metadata": {
  "kernelspec": {
   "display_name": "Python 3 (ipykernel)",
   "language": "python",
   "name": "python3"
  },
  "language_info": {
   "codemirror_mode": {
    "name": "ipython",
    "version": 3
   },
   "file_extension": ".py",
   "mimetype": "text/x-python",
   "name": "python",
   "nbconvert_exporter": "python",
   "pygments_lexer": "ipython3",
   "version": "3.11.4"
  }
 },
 "nbformat": 4,
 "nbformat_minor": 5
}
