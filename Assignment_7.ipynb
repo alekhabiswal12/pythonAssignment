{
  "nbformat": 4,
  "nbformat_minor": 0,
  "metadata": {
    "colab": {
      "provenance": [],
      "include_colab_link": true
    },
    "kernelspec": {
      "name": "python3",
      "display_name": "Python 3"
    },
    "language_info": {
      "name": "python"
    }
  },
  "cells": [
    {
      "cell_type": "markdown",
      "metadata": {
        "id": "view-in-github",
        "colab_type": "text"
      },
      "source": [
        "<a href=\"https://colab.research.google.com/github/rooftopmunda/iNeuron-assignments/blob/main/Assignment_7.ipynb\" target=\"_parent\"><img src=\"https://colab.research.google.com/assets/colab-badge.svg\" alt=\"Open In Colab\"/></a>"
      ]
    },
    {
      "cell_type": "markdown",
      "source": [
        "###1. Create two int type variables, apply addition, subtraction, division and multiplications and store the results in variables. Then print the data in the following format by calling the variables:\n",
        "\n",
        "    First variable is __ & second variable is __.\n",
        "    Addition: __ + __ = __\n",
        "    Subtraction: __ - __ = __\n",
        "    Multiplication: __ * __ = __\n",
        "    Division: __ / __ = __"
      ],
      "metadata": {
        "id": "w2mW3vAHtVpI"
      }
    },
    {
      "cell_type": "code",
      "source": [
        "\n",
        "var1 = 1111\n",
        "var2 = 111\n",
        "\n",
        "add = var1 + var2\n",
        "sub = var1 - var2\n",
        "mul = var1 * var2\n",
        "div = var1 / var2\n",
        "\n",
        "print(f\"First variable is {var1} & second variable is {var2}.\")\n",
        "print(f\"Addition: {var1} + {var2} = {add}\")\n",
        "print(f\"Subtraction: {var1} - {var2} = {sub}\")\n",
        "print(f\"Multiplication: {var1} * {var2} = {mul}\")\n",
        "print(f\"Division: {var1} / {var2} = {div}\")\n"
      ],
      "metadata": {
        "id": "aBstZThEthMf",
        "colab": {
          "base_uri": "https://localhost:8080/"
        },
        "outputId": "42774c3a-14e7-481e-ec32-df160a9fa3ba"
      },
      "execution_count": 2,
      "outputs": [
        {
          "output_type": "stream",
          "name": "stdout",
          "text": [
            "First variable is 1111 & second variable is 111.\n",
            "Addition: 1111 + 111 = 1222\n",
            "Subtraction: 1111 - 111 = 1000\n",
            "Multiplication: 1111 * 111 = 123321\n",
            "Division: 1111 / 111 = 10.00900900900901\n"
          ]
        }
      ]
    },
    {
      "cell_type": "markdown",
      "source": [
        "###2. What is the difference between the following operators:\n",
        "###(i) '/' and '//\"\n",
        "###(ii) '**' & '^'\n",
        "\n",
        "\n",
        "\n",
        "\n"
      ],
      "metadata": {
        "id": "avnx3AHMvMlp"
      }
    },
    {
      "cell_type": "markdown",
      "source": [
        "The differences between the operators are:\n",
        "* (i) '/' performs floating point division, while '//' performs floor division.\n",
        "* (ii) '**' is the exponentiation operator, while '^' is the bitwise XOR operator."
      ],
      "metadata": {
        "id": "FCfeQhjXH4EL"
      }
    },
    {
      "cell_type": "code",
      "source": [
        "result = 7 / 2\n",
        "print(result)\n",
        "\n",
        "result = 7 // 2\n",
        "print(result)\n",
        "\n",
        "result = 2 ** 3\n",
        "print(result)\n",
        "\n",
        "result = 5 ^ 3\n",
        "print(result)\n"
      ],
      "metadata": {
        "colab": {
          "base_uri": "https://localhost:8080/"
        },
        "id": "q6pjRlutLMLX",
        "outputId": "56e808c6-2e1e-4caf-96a9-98a6a6394e0f"
      },
      "execution_count": 10,
      "outputs": [
        {
          "output_type": "stream",
          "name": "stdout",
          "text": [
            "3.5\n",
            "3\n",
            "8\n",
            "6\n"
          ]
        }
      ]
    },
    {
      "cell_type": "markdown",
      "source": [
        "###3. List the logical operators."
      ],
      "metadata": {
        "id": "IU6uayOpvUE8"
      }
    },
    {
      "cell_type": "markdown",
      "source": [
        "There are Three types of logical operator. It results in True or False\n",
        "\n",
        "    1 . and --> Returns True if both statements are true\n",
        "    2 . or  --> Returns True if one of the statements is true\n",
        "    3 . not --> Reverses the result, returns False if the result is true and vice versa."
      ],
      "metadata": {
        "id": "jaOk54-NINV2"
      }
    },
    {
      "cell_type": "markdown",
      "source": [
        "###4. Explain right shift operator and left shift operator with examples."
      ],
      "metadata": {
        "id": "7ouswpkWvbMm"
      }
    },
    {
      "cell_type": "markdown",
      "source": [
        "* The right shift operator '>>' shifts the bits of the number to the right and fills 0 on voids left as a result.\n",
        "* The left shift operator '<<' shifts the bits of the number to the left and fills 0 on voids left as a result.\n",
        "* example:"
      ],
      "metadata": {
        "id": "Mof2jmbFIhqZ"
      }
    },
    {
      "cell_type": "code",
      "source": [
        "# Right shift\n",
        "print(100 >> 2)\n",
        "\n",
        "# Left shift\n",
        "print(100 << 2)"
      ],
      "metadata": {
        "colab": {
          "base_uri": "https://localhost:8080/"
        },
        "id": "KI5hsS0VIjNx",
        "outputId": "815ec81e-9364-4223-bd3f-0d4a7cd5ad6e"
      },
      "execution_count": 7,
      "outputs": [
        {
          "output_type": "stream",
          "name": "stdout",
          "text": [
            "25\n",
            "400\n"
          ]
        }
      ]
    },
    {
      "cell_type": "markdown",
      "source": [
        "###5. Create a list containing int type data of length 15. Then write a code to check if 10 is present in the list or not.\n",
        "\n",
        "\n"
      ],
      "metadata": {
        "id": "G8D36d6ZvcuY"
      }
    },
    {
      "cell_type": "code",
      "source": [
        "lst = [1, 2, 3, 4, 5, 6, 7, 8, 9, 10, 11, 12, 13, 14, 15]\n",
        "\n",
        "if 10 in lst:\n",
        "    print(\"10 is present in the list.\")\n",
        "else:\n",
        "    print(\"10 is not present in the list.\")"
      ],
      "metadata": {
        "colab": {
          "base_uri": "https://localhost:8080/"
        },
        "id": "eBgqKr1UKp-4",
        "outputId": "f72c484a-4533-4aaf-9ccb-cee8f00178f3"
      },
      "execution_count": 9,
      "outputs": [
        {
          "output_type": "stream",
          "name": "stdout",
          "text": [
            "10 is present in the list.\n"
          ]
        }
      ]
    }
  ]
}