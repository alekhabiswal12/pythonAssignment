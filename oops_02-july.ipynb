{
 "cells": [
  {
   "cell_type": "code",
   "execution_count": null,
   "id": "71e7da5a-ff86-4564-824a-0d47bec5f1d2",
   "metadata": {},
   "outputs": [],
   "source": []
  },
  {
   "cell_type": "markdown",
   "id": "e99954da-ca38-45ad-b150-d032292f6656",
   "metadata": {},
   "source": [
    "1. ### Explain what inheritance is in object-oriented programming and why it is used?.\n",
    "  a-Inheritance is a fundamental concept in object-oriented programming .called a subclass or derived class) to inherit properties and behaviours from another class .where a subclass is a specialized version of its superclass.\n",
    "\n",
    "b-Inheritance promotes code reuse by allowing a subclass to inherit attributes and methods from its superclass.  you can define common functionality in a  class and have multiple subclasses inherit that functionality. Objects programming used for the create new class defind the inheritance uses small classes \r\n",
    "2. ### Discuss the concept of single inheritance and multiple inheritance, highlighting their differences and advantages?.\r",
    "   a-In single inheritance: a class can inherit from only one superclass. This means that a derived class (subclass) can have only one immediate parent class (superclass). Single inheritance is a simpler and more straightforward model compared to multiple inheritance.\n",
    "   b-Multi inheritance: In multiple inheritance, a class can inherit from more than one superclass. This allows a subclass to inherit attributes and methods from multiple classes, creating a more complex class hierarchy.\n",
    "\n",
    "3. ### Explain the terms \"base class\" and \"derived class\" in the context of inheritance?\n",
    "    a-A base class, also known as a superclass or parent class, is the class from which another class inherits.It is the class that provides common attributes and behaviours to one or more derived classes.\n",
    "\n",
    "4. ### What is the significance of the \"protected\" access modifier in inheritance? How does it differ from \"private\" and \"public\" modifiers?\n",
    " A- DERVIED CLASS: A derived class, also known as a subclass or child class, is a class that inherits attributes and behaviours from another class, the base class. It extends or specializes the functionality of the base class by adding or modifying attributes and methods.\n",
    " B- public accesss :::  Members with the \"public\" access modifier are accessible from any other class. There are no restrictions on accessing public members outside the class or its subclasses.\r",
    "   \n",
    "Public members are part of the class's public interface, and they can be freely accessed and modified by code outside the clas.s C- Members with the \"protected\" access modifier are accessible within the class that defines them and by subclasses. They are not accessible by code outside the class hierarchy.\r",
    "   \n",
    "In the context of inheritance, the \"protected\" modifier allows a subclass to access the protected members of its superclass. This supports the          concept of inheritance, enabling subclasses to inherit and override behavior while maintaining encapsulation.   \r\n",
    "Unlike \"public,\" \"protected\" provides a level of encapsulation, restricting access to only the class and its subclasse\n",
    "   \n",
    "5. ### What is the purpose of the \"super\" keyword in inheritance? Provide an example.s   --/Inheritance in object-oriented programming allows a class (subclass or derived class) to inherit attributes and methods from another cla         s (supercl ss or base clsskeyword is used to refer to the superclass and is often used to call its methods or access its members.The purpose of the super keyword is to provide a way to invoke the superclass's behaviour within the subclass.\r\n",
    "). \r\n",
    "?\r\n",
    "\r\n",
    ".\n"
   ]
  },
  {
   "cell_type": "code",
   "execution_count": null,
   "id": "5f5cbc28-0446-43e5-b133-597f0d7afea9",
   "metadata": {},
   "outputs": [],
   "source": []
  },
  {
   "cell_type": "code",
   "execution_count": 55,
   "id": "9ba34745-5dc6-46d0-add5-35fcb3f3953f",
   "metadata": {},
   "outputs": [],
   "source": [
    "##question no-6\n",
    "##create vehicle class\n",
    "class vehicle:\n",
    "    def __init__(self,make,model,year):\n",
    "        self.make=make\n",
    "        self.model=model\n",
    "        self.year=year\n",
    "    def display_info(self):\n",
    "       print(f\":make {self.make} model {self.model} year{self.year}\")\n",
    "\n",
    "class car(vehicle):\n",
    "    def __init__(self,make,model,year,fuel_type):\n",
    "        super().__init__(make,model,year)\n",
    "        self.fuel_type=fuel_type\n",
    "        \n",
    "    def display_info(self):\n",
    "        super().display_info()\n",
    "        print(f\"Fuel Type: {self.fuel_type}\")\n",
    "\n",
    "        \n",
    "        "
   ]
  },
  {
   "cell_type": "code",
   "execution_count": 56,
   "id": "f1968bef-9311-454d-a774-e353e35beb59",
   "metadata": {},
   "outputs": [],
   "source": [
    "##create an instance of the vehicle class"
   ]
  },
  {
   "cell_type": "code",
   "execution_count": 57,
   "id": "50c832cc-154e-45da-8099-6ba5b41ab70c",
   "metadata": {},
   "outputs": [],
   "source": [
    "vehicle1=vehicle(\"auddi\",\"c01\",2023)"
   ]
  },
  {
   "cell_type": "code",
   "execution_count": 58,
   "id": "69c5d4ab-12a6-4c2e-b4e2-804a7798cf4b",
   "metadata": {},
   "outputs": [
    {
     "name": "stdout",
     "output_type": "stream",
     "text": [
      ":make auddi model c01 year2023\n"
     ]
    }
   ],
   "source": [
    "vehicle1.display_info()"
   ]
  },
  {
   "cell_type": "code",
   "execution_count": 59,
   "id": "77c2fba3-5c17-4e66-b1f0-636048bb4a30",
   "metadata": {},
   "outputs": [],
   "source": [
    "##create an instance of the car class"
   ]
  },
  {
   "cell_type": "code",
   "execution_count": 60,
   "id": "bf7231ca-1c7d-4477-a780-3a43d2edf770",
   "metadata": {},
   "outputs": [
    {
     "name": "stdout",
     "output_type": "stream",
     "text": [
      "Make: Honda, Model: Civic, Year: 2023\n",
      "Fuel Type: Electrical\n"
     ]
    }
   ],
   "source": [
    "car = Car(\"Honda\", \"Civic\", 2023, \"Electrical\")\n",
    "car.display_info()"
   ]
  },
  {
   "cell_type": "code",
   "execution_count": null,
   "id": "d440b9c8-b024-42de-b3ed-71e89c23b03a",
   "metadata": {},
   "outputs": [],
   "source": []
  },
  {
   "cell_type": "code",
   "execution_count": null,
   "id": "a4a75759-e63f-4251-8633-1eee375cda13",
   "metadata": {},
   "outputs": [],
   "source": []
  },
  {
   "cell_type": "code",
   "execution_count": 22,
   "id": "e682c141-2c03-4054-a814-f60ec033ce62",
   "metadata": {},
   "outputs": [],
   "source": [
    "##question no-7\n",
    "##create empolyee class\n",
    "class employee:\n",
    "    def __init__(self,name,salary):\n",
    "        self.name=name\n",
    "        self.salary=salary\n",
    "\n",
    "    def display_info(self):\n",
    "        print(f\":name{self.name}salary:{self.salary}\")\n",
    "\n",
    "class manager(employee):\n",
    "    def __init__(self,name,salary,department):\n",
    "        super().__init__(name,salary)\n",
    "        self.department = department\n",
    "\n",
    "    def display_info(self):\n",
    "        super().display_info()\n",
    "        print(f\":department:{self.department}\")\n",
    "\n",
    "class developer(employee):\n",
    "    def __init__(self,name,salary,programming_languages):\n",
    "        super().__init__(name,salary)\n",
    "        self.programming_languages=programming_languages\n",
    "    \n",
    "    def display_info(self):\n",
    "        super().display_info()\n",
    "        print(f\":programming_languages:{self.programming_languages}\")\n",
    "    \n",
    "\n",
    "\n"
   ]
  },
  {
   "cell_type": "code",
   "execution_count": null,
   "id": "8f74f1f3-1892-438e-990e-c267ff542de7",
   "metadata": {},
   "outputs": [],
   "source": [
    "##instance emp class"
   ]
  },
  {
   "cell_type": "code",
   "execution_count": 28,
   "id": "38183eac-14cd-440a-b3aa-cf4b17848d52",
   "metadata": {},
   "outputs": [],
   "source": [
    "emp = employee(\"John\", 50000)"
   ]
  },
  {
   "cell_type": "code",
   "execution_count": 29,
   "id": "b125d901-d037-4afa-a299-d3dff23ef027",
   "metadata": {},
   "outputs": [],
   "source": [
    "mgr = manager(\"Jane\", 70000, \"Human Resources\")"
   ]
  },
  {
   "cell_type": "code",
   "execution_count": 30,
   "id": "c5fafc88-db6c-4403-bf55-d0c1541eb85e",
   "metadata": {},
   "outputs": [],
   "source": [
    "dev = developer(\"Sam\", 60000, [\"Python\", \"JavaScript\"])"
   ]
  },
  {
   "cell_type": "code",
   "execution_count": 31,
   "id": "e646310c-d775-4a5d-9ebd-e2cd622d4f42",
   "metadata": {},
   "outputs": [
    {
     "name": "stdout",
     "output_type": "stream",
     "text": [
      ":nameJohnsalary:50000\n"
     ]
    }
   ],
   "source": [
    "emp.display_info()"
   ]
  },
  {
   "cell_type": "code",
   "execution_count": 27,
   "id": "e9e6b3b9-a49e-4a2a-b730-0ad2ff8b67c8",
   "metadata": {},
   "outputs": [
    {
     "name": "stdout",
     "output_type": "stream",
     "text": [
      ":nameJane Smithsalary:70000\n",
      ":department:Human Resources\n"
     ]
    }
   ],
   "source": [
    "mgr.display_info()"
   ]
  },
  {
   "cell_type": "code",
   "execution_count": 32,
   "id": "d8657636-dd7c-403c-bc36-ea0038cd721f",
   "metadata": {},
   "outputs": [
    {
     "name": "stdout",
     "output_type": "stream",
     "text": [
      ":nameSamsalary:60000\n",
      ":programming_languages:['Python', 'JavaScript']\n"
     ]
    }
   ],
   "source": [
    "dev.display_info()"
   ]
  },
  {
   "cell_type": "code",
   "execution_count": null,
   "id": "cee69865-0ebb-465f-91b0-0b684920405e",
   "metadata": {},
   "outputs": [],
   "source": []
  },
  {
   "cell_type": "markdown",
   "id": "6dae9274-8d5e-4a24-996f-c9b9d9366df2",
   "metadata": {},
   "source": [
    "##question no-8"
   ]
  },
  {
   "cell_type": "code",
   "execution_count": 14,
   "id": "c993b5ef-5f36-4f9c-9bb8-9c56a7dfa26f",
   "metadata": {},
   "outputs": [],
   "source": [
    "class Rectangle(Shape):\n",
    "    def __init__(self, colour, border_width, length, width):\n",
    "        super().__init__(colour, border_width)\n",
    "        self.length = length\n",
    "        self.width = width\n",
    "\n",
    "    def display_info(self):\n",
    "        super().display_info()\n",
    "        print(f\"Length: {self.length}, Width: {self.width}\")\n",
    "\n",
    "    def calculate_area(self): \n",
    "        return self.length * self.width\n",
    "\n",
    "class Circle(Shape):\n",
    "    def __init__(self, colour, border_width, radius):\n",
    "        super().__init__(colour, border_width)\n",
    "        self.radius = radius\n",
    "\n",
    "    def display_info(self):\n",
    "        super().display_info()\n",
    "        print(f\"Radius: {self.radius}\")\n",
    "\n",
    "    def calculate_area(self):  \n",
    "        import math   \n",
    "        return math.pi * self.radius**2\n"
   ]
  },
  {
   "cell_type": "code",
   "execution_count": 15,
   "id": "c7ad5a7c-ce05-48b5-8dcc-934aca6cabcb",
   "metadata": {},
   "outputs": [
    {
     "name": "stdout",
     "output_type": "stream",
     "text": [
      "Colour: Blue, Border Width: 2\n",
      "Length: 5, Width: 3\n",
      "Area: 15.00\n"
     ]
    }
   ],
   "source": [
    "rectangle = Rectangle(colour=\"Blue\", border_width=2, length=5, width=3)\n",
    "rectangle.display_info()\n",
    "print(f\"Area: {rectangle.calculate_area():.2f}\")"
   ]
  },
  {
   "cell_type": "code",
   "execution_count": 18,
   "id": "46d79c99-2660-4ea2-b0d9-31405c5c9767",
   "metadata": {},
   "outputs": [
    {
     "name": "stdout",
     "output_type": "stream",
     "text": [
      "Colour: Red, Border Width: 1\n",
      "Radius: 4\n",
      "Area: 50.27\n"
     ]
    }
   ],
   "source": [
    "circle = Circle(colour=\"Red\", border_width=1, radius=4)\n",
    "circle.display_info()\n",
    "print(f\"Area: {circle.calculate_area():.2f}\")"
   ]
  },
  {
   "cell_type": "markdown",
   "id": "b646e30d-abdf-447a-902b-7d51729ea210",
   "metadata": {},
   "source": [
    "##question-9"
   ]
  },
  {
   "cell_type": "code",
   "execution_count": null,
   "id": "98e35646-8a71-4e1d-87dc-89dd1f3c27bd",
   "metadata": {},
   "outputs": [],
   "source": []
  },
  {
   "cell_type": "code",
   "execution_count": 71,
   "id": "8b9f541a-783a-4e68-b93e-b3ab6bbd055c",
   "metadata": {},
   "outputs": [],
   "source": [
    "class Device:\n",
    "    def __init__(self, brand, model):\n",
    "        self.brand = brand\n",
    "        self.model = model\n",
    "\n",
    "    def display_info(self):\n",
    "        print(f\"Brand: {self.brand}, Model: {self.model}\")\n",
    "\n",
    "class Phone(Device):\n",
    "    def __init__(self, brand, model, screen_size):\n",
    "        super().__init__(brand, model)\n",
    "        self.screen_size = screen_size\n",
    "\n",
    "    def display_info(self):\n",
    "        super().display_info()\n",
    "        print(f\"Screen Size: {self.screen_size}\")\n",
    "\n",
    "class Tablet(Device):\n",
    "    def __init__(self, brand, model, battery_capacity):\n",
    "        super().__init__(brand, model)\n",
    "        self.battery_capacity = battery_capacity\n",
    "\n",
    "    def display_info(self):\n",
    "        super().display_info()\n",
    "        print(f\"Battery Capacity: {self.battery_capacity}\")\n",
    "\n",
    "\n"
   ]
  },
  {
   "cell_type": "code",
   "execution_count": 72,
   "id": "2ee956a3-b1ce-4574-9bf5-e1d1523c5c82",
   "metadata": {},
   "outputs": [
    {
     "name": "stdout",
     "output_type": "stream",
     "text": [
      " brandoppo,model:15promax\n"
     ]
    }
   ],
   "source": [
    "dev = device(\"oppo\", \"15promax\")\n",
    "dev.display_info()"
   ]
  },
  {
   "cell_type": "code",
   "execution_count": 73,
   "id": "be9a4a21-081f-45f5-8340-7f897ff81692",
   "metadata": {},
   "outputs": [
    {
     "name": "stdout",
     "output_type": "stream",
     "text": [
      "Brand: Samsung, Model: Galaxy S21\n",
      "Screen Size: 6.2 inches\n"
     ]
    }
   ],
   "source": [
    "ph = Phone(\"Samsung\", \"Galaxy S21\", \"6.2 inches\")\n",
    "ph.display_info()"
   ]
  },
  {
   "cell_type": "code",
   "execution_count": 74,
   "id": "3ae5c7c1-4002-46cf-8dad-b43761d5bdb8",
   "metadata": {},
   "outputs": [
    {
     "name": "stdout",
     "output_type": "stream",
     "text": [
      "Brand: Apple, Model: iPad Pro\n",
      "Battery Capacity: 10000 mAh\n"
     ]
    }
   ],
   "source": [
    "tab = Tablet(\"Apple\", \"iPad Pro\", \"10000 mAh\")\n",
    "tab.display_info()\n"
   ]
  },
  {
   "cell_type": "markdown",
   "id": "ffc620fe-2128-4ad7-8fea-c116cb3a9ab5",
   "metadata": {},
   "source": [
    "### Question-10,"
   ]
  },
  {
   "cell_type": "code",
   "execution_count": 49,
   "id": "dfdbfeec-ee39-4639-b712-8a86b7d271eb",
   "metadata": {},
   "outputs": [],
   "source": [
    "class BankAccount:\n",
    "    def __init__(self, account_number, balance):\n",
    "        self.account_number = account_number\n",
    "        self.balance = balance\n",
    "\n",
    "    def deposit(self, amount):\n",
    "        self.balance += amount\n",
    "\n",
    "    def withdraw(self, amount):\n",
    "        if amount <= self.balance:\n",
    "            self.balance -= amount\n",
    "        else:\n",
    "            print(\"Insufficient funds!\")\n",
    "\n",
    "    def display_balance(self):\n",
    "        print(f\"Account Number: {self.account_number}\")\n",
    "        print(f\"Balance: ${self.balance:.2}\")\n",
    "\n",
    "\n",
    "class SavingsAccount(BankAccount):\n",
    "    def calculate_interest(self, rate):\n",
    "        interest = self.balance * (rate / 100)\n",
    "        self.deposit(interest)\n",
    "        print(f\"Interest calculated and added: {interest:.2}\")\n",
    "\n",
    "\n",
    "class CheckingAccount(BankAccount):\n",
    "    def deduct_fees(self, fee):\n",
    "        if fee <= self.balance:\n",
    "            self.balance -= fee\n",
    "            print(f\"Fees deducted: ${fee:.2}\")\n",
    "        else:\n",
    "            print(\"Insufficient funds to deduct fees.\")\n",
    "\n",
    "\n",
    "\n",
    "\n",
    "\n"
   ]
  },
  {
   "cell_type": "code",
   "execution_count": 53,
   "id": "47f3b9c0-4a58-4288-9fbe-f94948a486c2",
   "metadata": {},
   "outputs": [
    {
     "name": "stdout",
     "output_type": "stream",
     "text": [
      "Account Number: CA456\n",
      "Balance: $450.00\n",
      "Fees deducted: $10.00\n",
      "Account Number: CA456\n",
      "Balance: $440.00\n"
     ]
    }
   ],
   "source": [
    "checking= CheckingAccount(account_number=\"CA456\", balance=500)\n",
    "checking_account.display_balance()\n",
    "checking_account.deduct_fees(fee=10)\n",
    "checking_account.display_balance()"
   ]
  },
  {
   "cell_type": "code",
   "execution_count": 54,
   "id": "d588352d-4b95-4ec1-969e-ea7284c45d74",
   "metadata": {},
   "outputs": [
    {
     "name": "stdout",
     "output_type": "stream",
     "text": [
      "Account Number: SA123\n",
      "Balance: $1159.69\n",
      "Interest calculated and added: $28.99\n"
     ]
    },
    {
     "data": {
      "text/plain": [
       "<bound method BankAccount.display_balance of <__main__.SavingsAccount object at 0x0000029BE9C292D0>>"
      ]
     },
     "execution_count": 54,
     "metadata": {},
     "output_type": "execute_result"
    }
   ],
   "source": [
    "savings = SavingsAccount(account_number=\"SA123\", balance=1000)\n",
    "savings_account.display_balance()\n",
    "savings_account.calculate_interest(rate=2.5)\n",
    "savings_account.display_balance"
   ]
  },
  {
   "cell_type": "code",
   "execution_count": null,
   "id": "1c817afd-6991-4b67-8682-6dbe7c6e9de7",
   "metadata": {},
   "outputs": [],
   "source": []
  },
  {
   "cell_type": "code",
   "execution_count": null,
   "id": "db7b57c8-7b3d-4051-9380-b52a40d55043",
   "metadata": {},
   "outputs": [],
   "source": []
  },
  {
   "cell_type": "code",
   "execution_count": null,
   "id": "38588b8c-16be-4573-8dc6-2237980e0c89",
   "metadata": {},
   "outputs": [],
   "source": []
  }
 ],
 "metadata": {
  "kernelspec": {
   "display_name": "Python 3 (ipykernel)",
   "language": "python",
   "name": "python3"
  },
  "language_info": {
   "codemirror_mode": {
    "name": "ipython",
    "version": 3
   },
   "file_extension": ".py",
   "mimetype": "text/x-python",
   "name": "python",
   "nbconvert_exporter": "python",
   "pygments_lexer": "ipython3",
   "version": "3.11.4"
  }
 },
 "nbformat": 4,
 "nbformat_minor": 5
}
