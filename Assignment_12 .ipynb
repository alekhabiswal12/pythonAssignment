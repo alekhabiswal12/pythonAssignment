{
  "nbformat": 4,
  "nbformat_minor": 0,
  "metadata": {
    "colab": {
      "provenance": [],
      "authorship_tag": "ABX9TyP9eCbFM59QiVxr9Yi/XS/D",
      "include_colab_link": true
    },
    "kernelspec": {
      "name": "python3",
      "display_name": "Python 3"
    },
    "language_info": {
      "name": "python"
    }
  },
  "cells": [
    {
      "cell_type": "markdown",
      "metadata": {
        "id": "view-in-github",
        "colab_type": "text"
      },
      "source": [
        "<a href=\"https://colab.research.google.com/github/rooftopmunda/iNeuron-assignments/blob/main/Assignment_11_18th_June.ipynb\" target=\"_parent\"><img src=\"https://colab.research.google.com/assets/colab-badge.svg\" alt=\"Open In Colab\"/></a>"
      ]
    },
    {
      "cell_type": "markdown",
      "source": [
        "# 1. What is the role of the 'else' block in a try-except statement? Provide an example scenario where it would be useful."
      ],
      "metadata": {
        "id": "1kEJP4wx2yxL"
      }
    },
    {
      "cell_type": "markdown",
      "source": [
        "The role of the 'else' block in a try-except statement is to specify a block of code to be executed if no exceptions are raised in the try block. It provides an alternative path of execution when the try block completes successfully."
      ],
      "metadata": {
        "id": "pczj392j2yzr"
      }
    },
    {
      "cell_type": "code",
      "source": [
        "class wrong_age(Exception):\n",
        "    pass\n",
        "\n",
        "n = 18\n",
        "\n",
        "\n",
        "try:\n",
        "    age = int(input(\"Enter your age: \"))\n",
        "    if age < n:\n",
        "        raise wrong_age\n",
        "    else:\n",
        "        print(\"You are eligible to vote!\")\n",
        "\n",
        "except wrong_age:\n",
        "    print(\"You are below 18\")"
      ],
      "metadata": {
        "colab": {
          "base_uri": "https://localhost:8080/"
        },
        "id": "PLLqCw0Z3Pzz",
        "outputId": "4aa1c512-d642-4533-8998-d8be24cf07dd"
      },
      "execution_count": 7,
      "outputs": [
        {
          "output_type": "stream",
          "name": "stdout",
          "text": [
            "Enter your age: 15\n",
            "You are below 18\n"
          ]
        }
      ]
    },
    {
      "cell_type": "markdown",
      "source": [
        "#2. Can a try-except block be nested inside another try-except block? Explain with an example."
      ],
      "metadata": {
        "id": "KAbbtBwU2y1z"
      }
    },
    {
      "cell_type": "markdown",
      "source": [
        "Yes, a try-except block can be nested inside another try-except block. This is known as nested exception handling. It allows for handling different types of exceptions at different levels of code.\n",
        "\n",
        "The inner try-except block handles the ZeroDivisionError, and the outer try-except block handles any other exceptions that may occur."
      ],
      "metadata": {
        "id": "ojEnq0cl2y4b"
      }
    },
    {
      "cell_type": "code",
      "source": [
        "try:\n",
        "    try:\n",
        "        result = 10 / 0\n",
        "    except ZeroDivisionError:\n",
        "        print(\"Cannot divide by zero!\")\n",
        "except Exception as e:\n",
        "    print(\"An error occurred:\", str(e))"
      ],
      "metadata": {
        "colab": {
          "base_uri": "https://localhost:8080/"
        },
        "id": "C_UBjngK3hi1",
        "outputId": "59ed46b0-0f29-4e03-ab2e-f1727e118fd3"
      },
      "execution_count": 1,
      "outputs": [
        {
          "output_type": "stream",
          "name": "stdout",
          "text": [
            "Cannot divide by zero!\n"
          ]
        }
      ]
    },
    {
      "cell_type": "markdown",
      "source": [
        "# 3. How can you create a custom exception class in Python? Provide an example that demonstrates its usage."
      ],
      "metadata": {
        "id": "0Ap_ZXsU2y7D"
      }
    },
    {
      "cell_type": "markdown",
      "source": [
        "To create a custom exception class in python, we can define a new class that inherits from the built-in Exception class or any of its subclasses.\n",
        "\n",
        "we define a custom exception class called CustomException that inherits from the base Exception class. We then raise an instance of this custom exception and catch it using an except block."
      ],
      "metadata": {
        "id": "S9KoRE262y9r"
      }
    },
    {
      "cell_type": "code",
      "source": [
        "class CustomException(Exception):\n",
        "    pass\n",
        "try:\n",
        "    raise CustomException(\"Custom exception.\")\n",
        "except CustomException as e:\n",
        "    print(\"Custom exception is caught:\", str(e))"
      ],
      "metadata": {
        "colab": {
          "base_uri": "https://localhost:8080/"
        },
        "id": "tUOLqyik4GeR",
        "outputId": "0e6c00b6-2d67-4855-dff4-09ce2f9bb3cf"
      },
      "execution_count": 9,
      "outputs": [
        {
          "output_type": "stream",
          "name": "stdout",
          "text": [
            "Custom exception is caught: Custom exception.\n"
          ]
        }
      ]
    },
    {
      "cell_type": "markdown",
      "source": [
        "#4. What are some common exceptions that are built-in to Python?"
      ],
      "metadata": {
        "id": "OpZ4Dzlp2zAT"
      }
    },
    {
      "cell_type": "markdown",
      "source": [
        "* ZeroDivisionError: Raised when dividing by zero.\n",
        "* TypeError: Raised when an operation or function is applied to an object of an inappropriate type.\n",
        "* ValueError: Raised when a function receives an argument of the correct type but an inappropriate value.\n",
        "* FileNotFoundError: Raised when a file or directory is requested but cannot be found.\n",
        "* IndexError: Raised when a sequence subscript is out of range."
      ],
      "metadata": {
        "id": "bIkF2Lj82zC7"
      }
    },
    {
      "cell_type": "markdown",
      "source": [
        "# 5. What is logging in Python, and why is it important in software development?"
      ],
      "metadata": {
        "id": "PZnT1PhK2zFb"
      }
    },
    {
      "cell_type": "markdown",
      "source": [
        "Logging is a technique used to record events or messages during the execution of a program. It allows developers to track the flow of their code, debug issues, and monitor the application's behavior. Logging is important in software development because it provides a systematic way to collect and analyze information about the program's execution."
      ],
      "metadata": {
        "id": "8ceqGXkK2zIL"
      }
    },
    {
      "cell_type": "markdown",
      "source": [
        "# 6. Explain the purpose of log levels in Python logging and provide examples of when each log level would be appropriate."
      ],
      "metadata": {
        "id": "OXiOlUsq2zK7"
      }
    },
    {
      "cell_type": "markdown",
      "source": [
        "Log levels are used to categorize log messages based on their severity.\n",
        "\n",
        "* DEBUG: Detailed information, typically used for debugging purposes.\n",
        "* INFO: General information about the program's execution.\n",
        "* WARNING: Indicates a potential issue or something that might cause problems.\n",
        "* ERROR: Indicates a more serious problem that prevents the program from functioning correctly.\n",
        "* CRITICAL: Indicates a critical error that may lead to the termination of the program.\n",
        "\n",
        "The appropriate log level to use depends on the importance and severity of the message being logged. For example, we might use the DEBUG level for detailed debugging information, while the ERROR level is used for critical errors that require immediate attention."
      ],
      "metadata": {
        "id": "AjDcoqVd2zNj"
      }
    },
    {
      "cell_type": "markdown",
      "source": [
        "# 7. What are log formatters in Python logging, and how can you customise the log message format using formatters?"
      ],
      "metadata": {
        "id": "5EfxTJEy2zQL"
      }
    },
    {
      "cell_type": "markdown",
      "source": [
        "Log formatters are used to customize the format of log messages. They define the structure and content of the log output. Python's logging module provides various built-in formatters, such as logging.Formatter, which allows you to specify the format using placeholders and formatting codes."
      ],
      "metadata": {
        "id": "8b-lFOIR2zSk"
      }
    },
    {
      "cell_type": "code",
      "source": [
        "import logging\n",
        "\n",
        "logger = logging.getLogger(\"my_logger\")\n",
        "logger.setLevel(logging.INFO)\n",
        "\n",
        "formatter = logging.Formatter(\"%(asctime)s - %(levelname)s - %(message)s\")\n",
        "\n",
        "file_handler = logging.FileHandler(\"app.log\")\n",
        "file_handler.setFormatter(formatter)\n",
        "\n",
        "logger.addHandler(file_handler)\n",
        "\n",
        "logger.info(\"Custom logging messsage!\")"
      ],
      "metadata": {
        "colab": {
          "base_uri": "https://localhost:8080/"
        },
        "id": "gLgJ4OLi58IS",
        "outputId": "932945e9-6d08-452e-a8d7-f80519428996"
      },
      "execution_count": 11,
      "outputs": [
        {
          "output_type": "stream",
          "name": "stderr",
          "text": [
            "INFO:my_logger:Custom logging messsage!\n"
          ]
        }
      ]
    },
    {
      "cell_type": "markdown",
      "source": [
        "# 8. How can you set up logging to capture log messages from multiple modules or classes in a Python application?"
      ],
      "metadata": {
        "id": "5fSeoJq-2zU7"
      }
    },
    {
      "cell_type": "markdown",
      "source": [
        "To capture log messages from multiple modules or classes in an application, we can use a hierarchical logger structure. Each module or class can has its own logger, and loggers can be organized in a hierarchy based on their names. This allows for more control over logging and enables capturing logs from specific modules or classes."
      ],
      "metadata": {
        "id": "277415rx2zXr"
      }
    },
    {
      "cell_type": "code",
      "source": [
        "import logging\n",
        "\n",
        "module1_logger = logging.getLogger(\"module1\")\n",
        "module1_logger.setLevel(logging.DEBUG)\n",
        "\n",
        "module2_logger = logging.getLogger(\"module2\")\n",
        "module2_logger.setLevel(logging.INFO)\n",
        "\n",
        "module1_file_handler = logging.FileHandler(\"module1.log\")\n",
        "module1_logger.addHandler(module1_file_handler)\n",
        "\n",
        "module2_file_handler = logging.FileHandler(\"module2.log\")\n",
        "module2_logger.addHandler(module2_file_handler)\n",
        "\n",
        "module1_logger.debug(\"Debug msg from module1\")\n",
        "module1_logger.info(\"Info msg from module1\")\n",
        "\n",
        "module2_logger.info(\"Info msg from module2\")\n",
        "module2_logger.warning(\"Warning msg from module2\")"
      ],
      "metadata": {
        "colab": {
          "base_uri": "https://localhost:8080/"
        },
        "id": "asKHv8dl6vxe",
        "outputId": "44a7ca4f-f578-493a-e37c-153e2c8448c6"
      },
      "execution_count": 13,
      "outputs": [
        {
          "output_type": "stream",
          "name": "stderr",
          "text": [
            "DEBUG:module1:Debug msg from module1\n",
            "INFO:module1:Info msg from module1\n",
            "INFO:module2:Info msg from module2\n",
            "WARNING:module2:Warning msg from module2\n"
          ]
        }
      ]
    },
    {
      "cell_type": "markdown",
      "source": [
        "#9. What is the difference between the logging and print statements in Python? When should you use logging over print statements in a real-world application?"
      ],
      "metadata": {
        "id": "PkAAhTCH2zaM"
      }
    },
    {
      "cell_type": "markdown",
      "source": [
        "The main difference between the logging and print statements is their purpose and functionality. The print statement is primarily used for displaying information to the console or standard output, while logging is used for recording events or messages during the execution of a program."
      ],
      "metadata": {
        "id": "u_66t_to2zcl"
      }
    },
    {
      "cell_type": "markdown",
      "source": [
        "In a real-world application, it is generally recommended to use logging over print statements for several reasons:\n",
        "* Logging provides more flexibility and control over the output, allowing us to specify different log levels, log to different destinations, and customize the log message format.\n",
        "* Logging can be easily enabled or disabled based on the log level, allowing us to control the output.\n",
        "* Logging allows us to capture and analyze the program's execution flow, making it easier to debug issues and monitor the application's behavior.\n",
        "* Logging messages can be categorized and filtered based on their severity, making it easier to identify and prioritize issues."
      ],
      "metadata": {
        "id": "lv2ANtln7A9B"
      }
    },
    {
      "cell_type": "markdown",
      "source": [
        "# 10. Write a Python program that logs a message to a file named \"app.log\" with the following requirements:\n",
        "# ● The log message should be \"Hello, World!\"\n",
        "# ● The log level should be set to \"INFO.\"\n",
        "# ● The log file should append new log entries without overwriting previous ones."
      ],
      "metadata": {
        "id": "jCpysdPW7A6v"
      }
    },
    {
      "cell_type": "code",
      "source": [
        "import logging\n",
        "\n",
        "logger = logging.getLogger(\"my_logger\")\n",
        "logger.setLevel(logging.INFO)\n",
        "\n",
        "file_handler = logging.FileHandler(\"app.log\")\n",
        "file_handler.setLevel(logging.INFO)\n",
        "\n",
        "formatter = logging.Formatter(\"%(message)s\")\n",
        "\n",
        "file_handler.setFormatter(formatter)\n",
        "\n",
        "logger.addHandler(file_handler)\n",
        "\n",
        "logger.info(\"Hello, India\")"
      ],
      "metadata": {
        "colab": {
          "base_uri": "https://localhost:8080/"
        },
        "id": "_dNpXqWN7epg",
        "outputId": "139d97d9-ddd2-484c-d72a-dcbf3cc05328"
      },
      "execution_count": 14,
      "outputs": [
        {
          "output_type": "stream",
          "name": "stderr",
          "text": [
            "INFO:my_logger:Hello, India\n"
          ]
        }
      ]
    },
    {
      "cell_type": "markdown",
      "source": [
        "# 11. Create a Python program that logs an error message to the console and a file named \"errors.log\" if an exception occurs during the program's execution. The error message should include the exception type and a timestamp."
      ],
      "metadata": {
        "id": "d_Q7RZ_U7A4H"
      }
    },
    {
      "cell_type": "code",
      "source": [
        "import logging\n",
        "import datetime\n",
        "\n",
        "logger = logging.getLogger(\"error_logger\")\n",
        "logger.setLevel(logging.ERROR)\n",
        "\n",
        "console_handler = logging.StreamHandler()\n",
        "console_handler.setLevel(logging.ERROR)\n",
        "\n",
        "file_handler = logging.FileHandler(\"errors.log\")\n",
        "file_handler.setLevel(logging.ERROR)\n",
        "\n",
        "formatter = logging.Formatter(\"%(asctime)s - %(levelname)s - %(message)s\")\n",
        "\n",
        "console_handler.setFormatter(formatter)\n",
        "file_handler.setFormatter(formatter)\n",
        "\n",
        "logger.addHandler(console_handler)\n",
        "logger.addHandler(file_handler)\n",
        "\n",
        "try:\n",
        "    result = 10 / 0\n",
        "except Exception as e:\n",
        "\n",
        "    logger.error(f\"An exception occurred: {str(e)}\")"
      ],
      "metadata": {
        "colab": {
          "base_uri": "https://localhost:8080/"
        },
        "id": "EqirCnWp76D_",
        "outputId": "497cfe4b-1c41-4718-ea34-cacf655edf6a"
      },
      "execution_count": 15,
      "outputs": [
        {
          "output_type": "stream",
          "name": "stderr",
          "text": [
            "2023-08-07 03:28:58,157 - ERROR - An exception occurred: division by zero\n",
            "2023-08-07 03:28:58,157 - ERROR - An exception occurred: division by zero\n",
            "ERROR:error_logger:An exception occurred: division by zero\n"
          ]
        }
      ]
    },
    {
      "cell_type": "code",
      "source": [],
      "metadata": {
        "id": "VvOWCf16Cm5b"
      },
      "execution_count": null,
      "outputs": []
    }
  ]
}