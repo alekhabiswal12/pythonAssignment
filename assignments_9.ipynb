{
 "cells": [
  {
   "cell_type": "markdown",
   "id": "b34e2c74-70cc-4c8f-aced-48088a607790",
   "metadata": {},
   "source": [
    "1. ### What is a lambda function in Python, and how does it differ from a regular function?"
   ]
  },
  {
   "cell_type": "markdown",
   "id": "3ae4eadb-6817-4909-905d-25fad35ed616",
   "metadata": {},
   "source": [
    "A lambda function in Python is a small anonymous function that can be defined using the lambda keyword.\n",
    "It is called \"anonymous\" because it does not require a function name. Lambda functions are commonly\n",
    "used when a simple function is needed for a short duration or when a function is required as an argument\n",
    "to another function.\n",
    "The main difference between a lambda function and a regular function is that a lambda function can be \n",
    "defined in a single line and does not require a return statement. It is primarily used for small, \n",
    "one-line functions that don't need the full structure of a regular function."
   ]
  },
  {
   "cell_type": "markdown",
   "id": "3d814a88-1f79-4619-9b0b-f96a98b0938a",
   "metadata": {},
   "source": [
    "2. ### Can a lambda function in Python have multiple arguments? If yes, how can you define and use them?\n",
    "    ambda function in Python can have multiple arguments. The syntax to define a lambda function\r",
    "    \n",
    "with multiple arguments is as follow\n",
    "   ###lambda arg1, arg2, ..., argn: expression\r\n",
    "    \r\n",
    "'''Here, arg1, arg2, ..., argN are the arguments, and expression is the operation or computation to be performed  .\r\n",
    "To use a lambda function with multiple arguments, you can assign it to a variable and then call the variable   as\r\n",
    "a regular function, passing the required argum.entss"
   ]
  },
  {
   "cell_type": "code",
   "execution_count": 1,
   "id": "1e7dd20a-2bd9-43c4-bb41-b881af9d6e65",
   "metadata": {},
   "outputs": [
    {
     "name": "stdout",
     "output_type": "stream",
     "text": [
      "8\n"
     ]
    }
   ],
   "source": [
    "a = lambda arg1, arg2: arg1 + arg2\r\n",
    "result = a(3, 5)\r\n",
    "print(result) "
   ]
  },
  {
   "cell_type": "markdown",
   "id": "ef35c3be-b16a-4057-b18b-77039b15aec9",
   "metadata": {},
   "source": [
    "3. ### How are lambda functions typically used in Python? Provide an example use case."
   ]
  },
  {
   "cell_type": "markdown",
   "id": "2d98ee46-7ac7-42f6-aa34-a6f626ba3213",
   "metadata": {},
   "source": [
    "Lambda functions are typically used in Python for situations where a small,short-lived function is needed, \n",
    "especially in cases where a function is required as an argument to another function. Some common use cases\n",
    "of lambda functions include:\n",
    "As an argument to higher-order functions like map(), filter(), and reduce(). \n",
    "Lambda functions can be used to define simple operations on elements of lists or other iterables"
   ]
  },
  {
   "cell_type": "code",
   "execution_count": 4,
   "id": "efae5aa3-a352-476b-b5c2-809f76cd19e8",
   "metadata": {},
   "outputs": [
    {
     "name": "stdout",
     "output_type": "stream",
     "text": [
      "[1, 4, 9, 16, 25]\n"
     ]
    }
   ],
   "source": [
    "##examples\n",
    "numbers = [1, 2, 3, 4, 5]\n",
    "squared = list(map(lambda x: x**2, numbers))\n",
    "print(squared)"
   ]
  },
  {
   "cell_type": "markdown",
   "id": "45f4de09-d399-462f-8523-c35096de03b8",
   "metadata": {},
   "source": [
    "4. ### What are the advantages and limitations of lambda functions compared to regular functions in python?\n"
   ]
  },
  {
   "cell_type": "markdown",
   "id": "295faf53-c2ac-4131-a9df-78a9dcfbcdaa",
   "metadata": {},
   "source": [
    "#-Limitations of lambda functions compared to regular functions in Python:\n",
    "\n",
    "Limited functionality: Lambda functions are designed for simple, one-line operations. They cannot contain multiple\n",
    "statements or complex logic.\n",
    "Lack of name: Lambda functions are anonymous, which means they don't have a name associated with them. This can\n",
    "make debugging and error messages less clear compared to regular functions.\n",
    "Reduced reusability: Lambda functions are typically used for small, specific tasks and are not intended for reuse\n",
    "across multiple parts of a program. Regular functions, on the other hand, can be defined once and used in multiple\n",
    "places."
   ]
  },
  {
   "cell_type": "markdown",
   "id": "4344e823-6efd-43d6-a9d4-2f638370a037",
   "metadata": {},
   "source": [
    "#-Advantages of lambda functions compared to regular functions in Python:\n",
    "\n",
    "Conciseness: Lambda functions allow you to define simple functions in a single line, without the need for\n",
    "a full function declaration.\n",
    "Readability: In some cases, using a lambda function can make the code more readable,especially when the \n",
    "operation is straightforward and doesn't require complex logic.\n",
    "Flexibility: Lambda functions can be used as inline functions or arguments to other functions,providing \n",
    "flexibility in programming."
   ]
  },
  {
   "cell_type": "markdown",
   "id": "dd2ca364-ea0f-49df-b2be-1ba94e239c14",
   "metadata": {},
   "source": [
    "5. ## Are lambda functions in Python able to access variables defined outside of their own scope? Explain with an example.\n"
   ]
  },
  {
   "cell_type": "markdown",
   "id": "9000f3ef-29e1-4e78-a3b7-51a4dcbfa4ac",
   "metadata": {},
   "source": [
    " yes..lambda functions in Python can access variables defined outside of their own scope. This concept is known as\n",
    "\"lexical scoping\" or \"closure.\" When a lambda function is defined, it can access variables from the enclosing scope\n",
    "in which it is defined.\n",
    "example"
   ]
  },
  {
   "cell_type": "code",
   "execution_count": 9,
   "id": "c77002a0-55d4-42bf-b122-d819491e5599",
   "metadata": {},
   "outputs": [
    {
     "name": "stdout",
     "output_type": "stream",
     "text": [
      "30\n"
     ]
    }
   ],
   "source": [
    "def outfunc():\n",
    "    x = 20\n",
    "    lambda_func = lambda y: x + y\n",
    "    return lambda_func\n",
    "\n",
    "my_lambda = outfunc()\n",
    "result = my_lambda(10)\n",
    "print(result)"
   ]
  },
  {
   "cell_type": "markdown",
   "id": "9f455a6e-f15d-46e3-9397-2a0286396575",
   "metadata": {},
   "source": [
    "6. ## Write a lambda function to calculate the square of a given number."
   ]
  },
  {
   "cell_type": "code",
   "execution_count": 10,
   "id": "6d498c87-db45-434e-a176-63fd9527b4aa",
   "metadata": {},
   "outputs": [
    {
     "name": "stdout",
     "output_type": "stream",
     "text": [
      "100\n"
     ]
    }
   ],
   "source": [
    "square = lambda x: x ** 2\n",
    "result = square(10)\n",
    "print(result)"
   ]
  },
  {
   "cell_type": "markdown",
   "id": "5f2582b4-955d-48e5-a749-73a7be2230e8",
   "metadata": {},
   "source": [
    "7. ### Create a lambda function to find the maximum value in a list of integers."
   ]
  },
  {
   "cell_type": "code",
   "execution_count": 13,
   "id": "53387bfb-6bb0-4295-baa7-8bea2710e4b1",
   "metadata": {},
   "outputs": [
    {
     "name": "stdout",
     "output_type": "stream",
     "text": [
      "9\n"
     ]
    }
   ],
   "source": [
    "find_max = lambda a: max(a)\n",
    "numbers = [8, 2, 9, 1, 5]\n",
    "max_value = find_max(numbers)\n",
    "print(max_value) "
   ]
  },
  {
   "cell_type": "markdown",
   "id": "4e2864dd-6251-4373-a6bb-c71c1b9fbb6d",
   "metadata": {},
   "source": [
    "8. ### Implement a lambda function to filter out all the even numbers from a list of integers."
   ]
  },
  {
   "cell_type": "code",
   "execution_count": 14,
   "id": "61a2acec-bfae-4881-8c96-5d02a66269cd",
   "metadata": {},
   "outputs": [
    {
     "name": "stdout",
     "output_type": "stream",
     "text": [
      "[2, 4, 6, 8]\n"
     ]
    }
   ],
   "source": [
    "filter_even = lambda a: list(filter(lambda x: x % 2 == 0, a))\n",
    "numbers = [1, 2, 3, 4, 5, 6, 7, 8, 9]\n",
    "even_numbers = filter_even(numbers)\n",
    "print(even_numbers)"
   ]
  },
  {
   "cell_type": "markdown",
   "id": "2d630582-fe67-44d9-99bb-dda4a468962b",
   "metadata": {},
   "source": [
    "9. ### Write a lambda function to sort a list of strings in ascending order based on the length of each string\n"
   ]
  },
  {
   "cell_type": "code",
   "execution_count": 16,
   "id": "ad79e829-6f46-42f7-a2fb-4d9f89240385",
   "metadata": {},
   "outputs": [
    {
     "name": "stdout",
     "output_type": "stream",
     "text": [
      "['name', 'apple', 'banana', 'cherry']\n"
     ]
    }
   ],
   "source": [
    "sort_by_length = lambda a: sorted(a, key=lambda x: len(x))\n",
    "words = ['apple', 'banana', 'cherry', 'name']\n",
    "sorted_words = sort_by_length(words)\n",
    "print(sorted_words)"
   ]
  },
  {
   "cell_type": "markdown",
   "id": "baf99000-571b-44d7-ad21-d54b02a045c8",
   "metadata": {},
   "source": [
    "10. ### Create a lambda function that takes two lists as input and returns a new list containing the common elements between the two lists\n"
   ]
  },
  {
   "cell_type": "code",
   "execution_count": 17,
   "id": "84431a32-0bea-4a21-baa3-3d0a0bb53094",
   "metadata": {},
   "outputs": [
    {
     "name": "stdout",
     "output_type": "stream",
     "text": [
      "[4, 5]\n"
     ]
    }
   ],
   "source": [
    "find_common = lambda a1, a2: list(filter(lambda x: x in a1, a2))\n",
    "list1 = [1, 2, 3, 4, 5]\n",
    "list2 = [4, 5, 6, 7, 8]\n",
    "common_elements = find_common(list1, list2)\n",
    "print(common_elements)"
   ]
  },
  {
   "cell_type": "markdown",
   "id": "b554ee46-27c3-4198-a6aa-0ec5e35ee2a4",
   "metadata": {},
   "source": [
    "11. ### Write a recursive function to calculate the factorial of a given positive integer."
   ]
  },
  {
   "cell_type": "code",
   "execution_count": 18,
   "id": "e4e56958-9e38-4358-8636-a61a3a890932",
   "metadata": {},
   "outputs": [
    {
     "name": "stdout",
     "output_type": "stream",
     "text": [
      "18144000\n"
     ]
    }
   ],
   "source": [
    "def factorial(n):\n",
    "    if n == 1:\n",
    "        return 5\n",
    "    else:\n",
    "        return n * factorial(n - 1)\n",
    "result = factorial(10)\n",
    "print(result) "
   ]
  },
  {
   "cell_type": "markdown",
   "id": "9521b159-e947-4348-be99-0341db714b9d",
   "metadata": {},
   "source": [
    "12. ### Implement a recursive function to compute the nth Fibonacci number."
   ]
  },
  {
   "cell_type": "code",
   "execution_count": 1,
   "id": "6883ee35-6d7b-4810-8f8b-1fa25f9fdb4c",
   "metadata": {},
   "outputs": [
    {
     "name": "stdout",
     "output_type": "stream",
     "text": [
      "13\n"
     ]
    }
   ],
   "source": [
    "def fibonacci(n):\n",
    "    if n <= 1:\n",
    "        return n\n",
    "    else:\n",
    "        return fibonacci(n - 1) + fibonacci(n - 2)\n",
    "result = fibonacci(7)\n",
    "print(result)  "
   ]
  },
  {
   "cell_type": "markdown",
   "id": "9c2d6107-ccd8-420f-8b0f-1d32f8b092dc",
   "metadata": {},
   "source": [
    "13. ### Create a recursive function to find the sum of all the elements in a given list."
   ]
  },
  {
   "cell_type": "code",
   "execution_count": 2,
   "id": "77205b7f-a275-405b-9ad5-c6188e5c5cef",
   "metadata": {},
   "outputs": [
    {
     "name": "stdout",
     "output_type": "stream",
     "text": [
      "Sum of elements in the list: 15\n"
     ]
    }
   ],
   "source": [
    "def list_sum(lst):\n",
    "   \n",
    "    if len(lst) == 0:\n",
    "        return 0\n",
    "   \n",
    "    else:\n",
    "        return lst[0] + list_sum(lst[1:])\n",
    "\n",
    "# Example usage:\n",
    "my_list = [1, 2, 3, 4, 5]\n",
    "total_sum = list_sum(my_list)\n",
    "print(\"Sum of elements in the list:\", total_sum)\n"
   ]
  },
  {
   "cell_type": "markdown",
   "id": "7a6cec5c-a577-4569-b949-d86f56cd60ea",
   "metadata": {},
   "source": [
    "14. ## Write a recursive function to determine whether a given string is a palindrome."
   ]
  },
  {
   "cell_type": "code",
   "execution_count": 3,
   "id": "b9c7587c-4b91-43db-ab44-1ebc0c1f6b83",
   "metadata": {},
   "outputs": [
    {
     "name": "stdout",
     "output_type": "stream",
     "text": [
      "True\n"
     ]
    }
   ],
   "source": [
    "def is_palindrome(string):\n",
    "    if len(string) <= 1:\n",
    "        return True\n",
    "    elif string[0] != string[-1]:\n",
    "        return False\n",
    "    else:\n",
    "        return is_palindrome(string[1:-1])\n",
    "result = is_palindrome(\"racecar\")\n",
    "print(result)"
   ]
  },
  {
   "cell_type": "markdown",
   "id": "702fad75-3f0a-4ac8-a254-61670945e83a",
   "metadata": {},
   "source": [
    "15. ### Implement a recursive function to find the greatest common divisor (GCD) of two positive integers."
   ]
  },
  {
   "cell_type": "code",
   "execution_count": 5,
   "id": "932775c0-c649-4266-ae45-cbed352ad409",
   "metadata": {},
   "outputs": [
    {
     "name": "stdout",
     "output_type": "stream",
     "text": [
      "12\n"
     ]
    }
   ],
   "source": [
    "def gcd(a, b):\n",
    "    if b == 0:\n",
    "        return a\n",
    "    else:\n",
    "        return gcd(b, a % b)\n",
    "result = gcd(12, 24)\n",
    "print(result)"
   ]
  },
  {
   "cell_type": "code",
   "execution_count": null,
   "id": "1bfc3896-4107-413e-9126-c607c6277a7a",
   "metadata": {},
   "outputs": [],
   "source": []
  },
  {
   "cell_type": "code",
   "execution_count": null,
   "id": "56ab3888-e6d0-4321-a542-3cb499cc1a08",
   "metadata": {},
   "outputs": [],
   "source": []
  },
  {
   "cell_type": "code",
   "execution_count": null,
   "id": "17841d15-6a98-4fbd-afea-f1920eb58301",
   "metadata": {},
   "outputs": [],
   "source": []
  },
  {
   "cell_type": "code",
   "execution_count": null,
   "id": "b46385ff-6410-4fe7-a082-1462c02f682a",
   "metadata": {},
   "outputs": [],
   "source": []
  }
 ],
 "metadata": {
  "kernelspec": {
   "display_name": "Python 3 (ipykernel)",
   "language": "python",
   "name": "python3"
  },
  "language_info": {
   "codemirror_mode": {
    "name": "ipython",
    "version": 3
   },
   "file_extension": ".py",
   "mimetype": "text/x-python",
   "name": "python",
   "nbconvert_exporter": "python",
   "pygments_lexer": "ipython3",
   "version": "3.11.4"
  }
 },
 "nbformat": 4,
 "nbformat_minor": 5
}
