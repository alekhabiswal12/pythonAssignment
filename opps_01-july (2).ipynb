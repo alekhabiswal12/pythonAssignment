{
 "cells": [
  {
   "cell_type": "markdown",
   "id": "c3d1c3c0-8ca1-4723-8f48-fa6d1ae38723",
   "metadata": {},
   "source": [
    "## 1-What is the primary goal of Object-Oriented Programming?\n",
    "\n",
    " A-The primary goal of Object-Oriented Programming (OOP) is to design software in a way that models real-world entities and their interactions. OOP is based on several key principles that help achieve this goal.What are attributes and methods in a class?\n",
    "It is used to structure a program into a simple, reusable piece of code. The entire software program runs by having multiple objects interact with objects to create large programs.\n",
    "\n",
    "## 2- What is an object in Python?\n",
    "\n",
    "A-In Python, an object is a fundamental concept and the basic building block of the language. Almost everything in Python is an object, including numbers, strings, lists, functions, and more. In Python, an object is an instance of a class, and a class is a blueprint or template for creating objects.Objects are variables that contain data and functions that can be used to manipulate the data. \n",
    "\n",
    "## 3- What is a class in Python?\n",
    "\n",
    "A- class is a code template for creating objects. Objects have member variables and have behaviour associated with them. In python a class is created by the keyword class . An object is created using the constructor of the class. This object will then be called the instance of the class\n",
    "\n",
    "## 4-What are attributes and methods in a class?\n",
    "\n",
    "A-Attributes are variables that store data that belongs to an object. They represent the characteristics or properties of the object.Attributes can be specific to an instance of the class (instance attributes) or shared among all instances of the class (class attributes).Any variable that is bound in a class is a class attribute . Any function defined within a class is a method .\n",
    "\n",
    "## 5-What is the difference between class variables and instance variables in Python?\n",
    "\n",
    "A-Class variables are useful for storing data that is shared among all instances of a class, such as constants or default values. Instance variables are used to store data that is unique to each instance of a class, such as object properties.\n",
    "typically within the __init__ method, and are prefixed with self.\n",
    "\n",
    "## 6-What is the purpose of the self parameter in Python class methods?\n",
    "A-The self parameter is a reference to the current instance of the class, and is used to access variables that belongs to the class.\n",
    "\n"
   ]
  },
  {
   "cell_type": "code",
   "execution_count": null,
   "id": "b58d0056-5e82-4572-9ce2-33fab941b0c3",
   "metadata": {},
   "outputs": [],
   "source": [
    "##  question no-8"
   ]
  },
  {
   "cell_type": "code",
   "execution_count": 14,
   "id": "bcf2d1a7-4591-4ef4-8001-8d01afdab663",
   "metadata": {},
   "outputs": [],
   "source": [
    "class ticket:\n",
    "    def __init__(self,ticket_id,event_name,event_date,venue,seat_number,price,is_reserved):\n",
    "        self.ticket_id=ticket_id\n",
    "        self.event_nmae=event_name\n",
    "        self.event_date=event_date\n",
    "        self.venue=venue\n",
    "        self.seat_number=seat_number\n",
    "        self.price=price\n",
    "        self.is_reserved=is_reserved\n",
    "    def reserved_ticket(self,reserved_ticket):\n",
    "        if self.ticket_id == reserved_ticket:\n",
    "            self.is_reserved=\"yes\"\n",
    "            \n",
    "            print(\"ticket is reserved successfully\")\n",
    "        else:\n",
    "            print(\"not the ticket reserved\")\n",
    "            \n",
    "    def cancel_reservation(self,ticket_id):\n",
    "        \n",
    "        if self.ticket_id==ticket_id:\n",
    "            self.is_reserved=\"no\"\n",
    "            \n",
    "            print(\"ticket is cancel successfully\")\n",
    "        else:\n",
    "            print(\"ticket id not match\")\n",
    "                  "
   ]
  },
  {
   "cell_type": "code",
   "execution_count": 15,
   "id": "4abfb63d-649a-4e78-b8b2-78e3744ad1c3",
   "metadata": {},
   "outputs": [],
   "source": [
    "ticket1= ticket(\"12\",\"google\",\"12.7.23\",\"payal_haal\",5,100,\"\")"
   ]
  },
  {
   "cell_type": "code",
   "execution_count": 16,
   "id": "5720ec5d-664b-40b4-a20f-a44fa3ad769d",
   "metadata": {},
   "outputs": [
    {
     "name": "stdout",
     "output_type": "stream",
     "text": [
      "ticket is reserved successfully\n"
     ]
    }
   ],
   "source": [
    "ticket1.reserved_ticket(\"12\")"
   ]
  },
  {
   "cell_type": "code",
   "execution_count": 18,
   "id": "85362056-a119-4a77-bd76-7bdf1e64c637",
   "metadata": {},
   "outputs": [
    {
     "name": "stdout",
     "output_type": "stream",
     "text": [
      "yes\n"
     ]
    }
   ],
   "source": [
    "print(ticket1.is_reserved)"
   ]
  },
  {
   "cell_type": "code",
   "execution_count": 19,
   "id": "f5b1857a-62ca-41ca-aed9-201b7fb4b55d",
   "metadata": {},
   "outputs": [
    {
     "name": "stdout",
     "output_type": "stream",
     "text": [
      "ticket is cancel successfully\n"
     ]
    }
   ],
   "source": [
    "ticket1.cancel_reservation(\"12\")"
   ]
  },
  {
   "cell_type": "code",
   "execution_count": 20,
   "id": "1495bdad-e6f9-4686-bd14-1564c6f886b2",
   "metadata": {},
   "outputs": [
    {
     "name": "stdout",
     "output_type": "stream",
     "text": [
      "no\n"
     ]
    }
   ],
   "source": [
    "print(ticket1.is_reserved)"
   ]
  },
  {
   "cell_type": "code",
   "execution_count": null,
   "id": "ae8df508-a378-46db-ac2d-e557c2667d78",
   "metadata": {},
   "outputs": [],
   "source": [
    "#Question no 7 :\n"
   ]
  },
  {
   "cell_type": "code",
   "execution_count": 21,
   "id": "a879e5dd-be4d-4d58-9108-4d68ab12b27c",
   "metadata": {},
   "outputs": [],
   "source": [
    "class Book:\n",
    "    def __init__(self, title, author, isbn, publication_year, available_copies):\n",
    "        self.title = title\n",
    "        self.author = author\n",
    "        self.isbn = isbn\n",
    "        self.publication_year = publication_year\n",
    "        self.available_copies = available_copies\n",
    "    \n",
    "    def check_out(self, check_out):\n",
    "        if check_out > self.available_copies:\n",
    "            print(\"Not enough copies available.\")\n",
    "        else:\n",
    "            self.available_copies -= check_out\n",
    "            print(f\"{check_out} copies checked out successfully.\")\n",
    "            print(f\"Available copies: {self.available_copies}\")\n",
    "\n",
    "    def return_book(self, return_book):\n",
    "        if return_book > self.available_copies:\n",
    "            print(\"Not enough copies of the book available.\")\n",
    "        else:\n",
    "            self.available_copies += return_book\n",
    "            print(f\"{return_book} copies returned successfully.\")\n",
    "            print(f\"Available copies: {self.available_copies}\")   \n",
    "\n",
    "    def display_book_info(self):\n",
    "        print(\"Book Information:\")\n",
    "        print(f\"Title: {self.title}\")\n",
    "        print(f\"Author: {self.author}\")\n",
    "        print(f\"ISBN: {self.isbn}\")\n",
    "        print(f\"Publication Year: {self.publication_year}\")\n",
    "        print(f\"Available Copies: {self.available_copies}\")"
   ]
  },
  {
   "cell_type": "code",
   "execution_count": 22,
   "id": "7426885f-2f31-4f2f-8d07-e9d4be966f2b",
   "metadata": {},
   "outputs": [],
   "source": [
    "my_book = Book(\"Lover\", \"Alekh\", \"12345\", \"2022\", 5)\n"
   ]
  },
  {
   "cell_type": "code",
   "execution_count": null,
   "id": "a753ffdf-ffd7-4c86-a048-571e2d75ec04",
   "metadata": {},
   "outputs": [],
   "source": [
    "my_book.return_book(2)\n"
   ]
  },
  {
   "cell_type": "code",
   "execution_count": 23,
   "id": "2fd70e7d-5131-45f2-abd2-d2ae17dc1201",
   "metadata": {},
   "outputs": [
    {
     "name": "stdout",
     "output_type": "stream",
     "text": [
      "Book Information:\n",
      "Title: Lover\n",
      "Author: Alekh\n",
      "ISBN: 12345\n",
      "Publication Year: 2022\n",
      "Available Copies: 5\n"
     ]
    }
   ],
   "source": [
    "my_book.display_book_info()\n"
   ]
  },
  {
   "cell_type": "code",
   "execution_count": null,
   "id": "732c3f0a-1876-4abd-9802-06ea99f5b491",
   "metadata": {},
   "outputs": [],
   "source": [
    "#question no 9:"
   ]
  },
  {
   "cell_type": "code",
   "execution_count": 25,
   "id": "c0ba239f-3993-46c1-899e-2a06e0182af1",
   "metadata": {},
   "outputs": [],
   "source": [
    "class Student:\n",
    "    def __init__(self, name, age, grade, student_id):\n",
    "        self.name = name\n",
    "        self.age = age\n",
    "        self.grade = grade\n",
    "        self.student_id = student_id\n",
    "        self.attendance = {}  # Using a dictionary to store attendance records (date: status)\n",
    "\n",
    "    def update_attendance(self, date, status):\n",
    "        # Update the attendance record for the given date with the provided status\n",
    "        self.attendance[date] = status\n",
    "\n",
    "    def get_attendance(self):\n",
    "        \n",
    "        return self.attendance\n",
    "\n",
    "    def get_average_attendance(self):\n",
    "        \n",
    "        if not self.attendance:\n",
    "            return 0  \n",
    "\n",
    "        total_days = len(self.attendance)\n",
    "        present_days = sum(1 for status in self.attendance.values() if status.lower() == 'present')\n",
    "\n",
    "        # Calculate percentage\n",
    "        attendance_percentage = (present_days / total_days) * 100\n",
    "        return round(attendance_percentage, 2)\n",
    "\n",
    "student1 = Student(name=\"John Doe\", age=15, grade=\"10th\", student_id=\"S12345\")"
   ]
  },
  {
   "cell_type": "code",
   "execution_count": 26,
   "id": "e4f2b908-caee-45c5-8478-21feb23bf0a0",
   "metadata": {},
   "outputs": [],
   "source": [
    "student1.update_attendance(\"2023-01-01\", \"Present\")\n"
   ]
  },
  {
   "cell_type": "code",
   "execution_count": 27,
   "id": "969ce9f0-75bd-4997-8598-162b9e083207",
   "metadata": {},
   "outputs": [],
   "source": [
    "student1.update_attendance(\"2023-01-02\", \"Absent\")\n"
   ]
  },
  {
   "cell_type": "code",
   "execution_count": 28,
   "id": "237a3243-693d-48ad-aa05-8037d0094acb",
   "metadata": {},
   "outputs": [],
   "source": [
    "student1.update_attendance(\"2023-01-03\", \"Present\")\n"
   ]
  },
  {
   "cell_type": "code",
   "execution_count": 30,
   "id": "0f1fe20c-83cc-4e1c-b629-39c1227136c2",
   "metadata": {},
   "outputs": [
    {
     "name": "stdout",
     "output_type": "stream",
     "text": [
      "Attendance Record: {'2023-01-01': 'Present', '2023-01-02': 'Absent', '2023-01-03': 'Present'}\n"
     ]
    }
   ],
   "source": [
    "attendance_record = student1.get_attendance()\n",
    "print(\"Attendance Record:\", attendance_record)\n",
    "\n",
    "\n"
   ]
  },
  {
   "cell_type": "code",
   "execution_count": 31,
   "id": "a00313a7-2d84-41ee-be5e-61e4b2e57908",
   "metadata": {},
   "outputs": [
    {
     "name": "stdout",
     "output_type": "stream",
     "text": [
      "Average Attendance: 66.67 %\n"
     ]
    }
   ],
   "source": [
    "average_attendance = student1.get_average_attendance()\n",
    "print(\"Average Attendance:\", average_attendance, \"%\")\n"
   ]
  },
  {
   "cell_type": "code",
   "execution_count": null,
   "id": "72d0968d-2b9b-4d76-a490-a2c878d8f71c",
   "metadata": {},
   "outputs": [],
   "source": [
    "\n",
    "#question no-10\n"
   ]
  },
  {
   "cell_type": "code",
   "execution_count": 32,
   "id": "9b2ef669-63bc-4eb5-888a-63f14c72b3b8",
   "metadata": {},
   "outputs": [],
   "source": [
    "class Product:\n",
    "    def __init__(self, product_id, name, price):\n",
    "        self.product_id = product_id\n",
    "        self.name = name\n",
    "        self.price = price\n",
    "\n",
    "class ShoppingCart:\n",
    "    def __init__(self):\n",
    "        self.items = []  # List to store items in the cart\n",
    "\n",
    "    def add_item(self, item):\n",
    "        self.items.append(item)\n",
    "\n",
    "    def remove_item(self, item):\n",
    "        if item in self.items:\n",
    "            self.items.remove(item)\n",
    "\n",
    "    def view_cart(self):\n",
    "        print(\"Shopping Cart:\")\n",
    "        for item in self.items:\n",
    "            product = item['product']\n",
    "            quantity = item['quantity']\n",
    "            print(f\"{product.name} (ID: {product.product_id}) - Quantity: {quantity}\")\n",
    "\n",
    "    def clear_cart(self):\n",
    "        self.items = []\n"
   ]
  },
  {
   "cell_type": "code",
   "execution_count": 33,
   "id": "a49941e3-2049-46f1-8adc-0605acc149b5",
   "metadata": {},
   "outputs": [],
   "source": [
    "product1 = Product(product_id=1, name=\"Laptop\", price=999.99)\n"
   ]
  },
  {
   "cell_type": "code",
   "execution_count": 34,
   "id": "7ec6b330-50c7-4e51-8771-7ea060808788",
   "metadata": {},
   "outputs": [],
   "source": [
    "product2 = Product(product_id=2, name=\"Headphones\", price=49.99)\n"
   ]
  },
  {
   "cell_type": "code",
   "execution_count": 35,
   "id": "4e9c3fd2-579f-4b05-b193-00e4f062b7ec",
   "metadata": {},
   "outputs": [],
   "source": [
    "item1 = {'product': product1, 'quantity': 2}\n"
   ]
  },
  {
   "cell_type": "code",
   "execution_count": 36,
   "id": "c7cd7285-5e1d-4c28-915f-b829dda38e78",
   "metadata": {},
   "outputs": [],
   "source": [
    "item2 = {'product': product2, 'quantity': 1}\n"
   ]
  },
  {
   "cell_type": "code",
   "execution_count": 37,
   "id": "e5c622e3-2649-4e3d-9123-586f62f3c6ee",
   "metadata": {},
   "outputs": [],
   "source": [
    "cart = ShoppingCart()\n"
   ]
  },
  {
   "cell_type": "code",
   "execution_count": 38,
   "id": "c22ea9ff-3951-4a87-970a-384b4a9951c5",
   "metadata": {},
   "outputs": [],
   "source": [
    "cart.add_item(item1)\n"
   ]
  },
  {
   "cell_type": "code",
   "execution_count": 39,
   "id": "4b7ec5fb-acaa-4a23-bdba-c9f515817892",
   "metadata": {},
   "outputs": [],
   "source": [
    "cart.add_item(item2)\n"
   ]
  },
  {
   "cell_type": "code",
   "execution_count": 40,
   "id": "2714fbed-5d31-46ac-b7a9-50cd97fd5564",
   "metadata": {},
   "outputs": [
    {
     "name": "stdout",
     "output_type": "stream",
     "text": [
      "Shopping Cart:\n",
      "Laptop (ID: 1) - Quantity: 2\n",
      "Headphones (ID: 2) - Quantity: 1\n"
     ]
    }
   ],
   "source": [
    "cart.view_cart()\n"
   ]
  },
  {
   "cell_type": "code",
   "execution_count": 41,
   "id": "1b0d1239-8702-42b9-9074-97c6e933dc92",
   "metadata": {},
   "outputs": [],
   "source": [
    "cart.remove_item(item1)\n"
   ]
  },
  {
   "cell_type": "code",
   "execution_count": 42,
   "id": "f7cf54b0-fe06-44d2-91cc-b0a3a0757d8d",
   "metadata": {},
   "outputs": [
    {
     "name": "stdout",
     "output_type": "stream",
     "text": [
      "Shopping Cart:\n",
      "Headphones (ID: 2) - Quantity: 1\n"
     ]
    }
   ],
   "source": [
    "cart.view_cart()\n"
   ]
  },
  {
   "cell_type": "code",
   "execution_count": 43,
   "id": "eb0fb987-c5a3-4f36-9207-e5aa0b8ece25",
   "metadata": {},
   "outputs": [],
   "source": [
    "cart.clear_cart()\n"
   ]
  },
  {
   "cell_type": "code",
   "execution_count": 44,
   "id": "afb320d3-952b-41ba-908e-0d70fa994c42",
   "metadata": {},
   "outputs": [
    {
     "name": "stdout",
     "output_type": "stream",
     "text": [
      "Shopping Cart:\n"
     ]
    }
   ],
   "source": [
    "cart.view_cart()\n"
   ]
  },
  {
   "cell_type": "code",
   "execution_count": null,
   "id": "e840478b-6f49-4830-ae29-7daa3ac8c9de",
   "metadata": {},
   "outputs": [],
   "source": []
  }
 ],
 "metadata": {
  "kernelspec": {
   "display_name": "Python 3 (ipykernel)",
   "language": "python",
   "name": "python3"
  },
  "language_info": {
   "codemirror_mode": {
    "name": "ipython",
    "version": 3
   },
   "file_extension": ".py",
   "mimetype": "text/x-python",
   "name": "python",
   "nbconvert_exporter": "python",
   "pygments_lexer": "ipython3",
   "version": "3.11.4"
  }
 },
 "nbformat": 4,
 "nbformat_minor": 5
}
